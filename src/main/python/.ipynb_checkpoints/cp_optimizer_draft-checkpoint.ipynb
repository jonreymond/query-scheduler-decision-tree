{
 "cells": [
  {
   "cell_type": "code",
   "execution_count": 1,
   "id": "6c4875d8-5601-4480-b544-57aadd1eb5ed",
   "metadata": {},
   "outputs": [],
   "source": [
    "import matplotlib.pyplot as plt\n",
    "import numpy as np\n",
    "import pandas as pd\n",
    "import os\n",
    "import pathlib as plib\n",
    "import sys\n",
    "import time\n",
    "import utils\n",
    "import cp_optimizer\n",
    "import math\n",
    "\n",
    "from ortools.sat.python import cp_model"
   ]
  },
  {
   "cell_type": "code",
   "execution_count": 2,
   "id": "e203829b-5356-41ef-91a3-11bd8471af5f",
   "metadata": {},
   "outputs": [],
   "source": [
    "q_list = [\"q1\", \"q3\", \"q5\", \"q4\",\"q2\", \"q5\", \"q1\"]\n",
    "df_queries = utils.load(q_list, num_partitions='16')\n",
    "res = utils.interpolate(df_queries)\n",
    "precision = 1000\n",
    "C =16\n",
    "C_ = None # for split\n",
    "Q = len(q_list)\n",
    "R = int(round(Q / 2))\n",
    "T = cp_optimizer.init_matrix(q_list, res, C, precision)\n",
    "reg_factor = 0.001\n",
    "T_arr = np.array(T)\n",
    "T_min = np.min(T_arr[np.nonzero(T_arr)])\n",
    "T_min = 0"
   ]
  },
  {
   "cell_type": "code",
   "execution_count": 3,
   "id": "68c37998-f687-4f8b-80ec-dc507ea74885",
   "metadata": {},
   "outputs": [],
   "source": [
    "path_sets_idx = utils.get_path_sets(range(len(q_list)))\n",
    "num_paths = len(path_sets_idx)\n",
    "probas = np.random.random(size=num_paths)\n",
    "probas = list(probas / sum(probas))\n",
    "\n",
    "# probas = np.ones(num_paths) *1/num_paths\n",
    "probas_int = utils.probas_to_int(probas, 4)"
   ]
  },
  {
   "cell_type": "code",
   "execution_count": 4,
   "id": "63d6bb74-8edb-4e39-91de-0023017f6b06",
   "metadata": {},
   "outputs": [
    {
     "name": "stdout",
     "output_type": "stream",
     "text": [
      "                      q1\n",
      "\n",
      "              q3              q5              \n",
      "\n",
      "        q4        q2        q5        q1        \n",
      "\n",
      "    0.273127   0.119469   0.230516   0.376888   \n"
     ]
    }
   ],
   "source": [
    "utils.print_tree(q_list, probas)"
   ]
  },
  {
   "cell_type": "markdown",
   "id": "6c7cd42a-ad44-430d-abe1-43cb9ea58021",
   "metadata": {
    "jp-MarkdownHeadingCollapsed": true,
    "tags": []
   },
   "source": [
    "## 1st formulation"
   ]
  },
  {
   "cell_type": "code",
   "execution_count": 16,
   "id": "b021dbf7-83fd-49f0-a85c-fba54f51c390",
   "metadata": {},
   "outputs": [],
   "source": [
    "#Define program\n",
    "model = cp_model.CpModel()\n",
    "#Init Variable\n",
    "V = {(q, r): model.NewIntVar(0, C, f'V_{q},{r}') for q in range(Q) for r in range(R)}\n",
    "\n",
    "\n",
    "I = {(q, r): model.NewIntVar(0, R - 1, f'I_{q},{r}') for q in range(Q) for r in range(R)}\n",
    "X = {q: model.NewIntVar(1, C, f'X_{q}') for q in range(Q)}\n",
    "k = {r: model.NewIntVar(0, T.max(), f'k_{r}') for r in range(R)}\n",
    "t_ind = {(q, r): model.NewIntVar(0, T.max(), f't_ind_{q},{r}') for q in range(Q) for r in range(R)}\n",
    "\n",
    "A = np.zeros((Q, R)).astype(int).astype(object)\n",
    "for q in range(Q):\n",
    "    A[q, -1] = X[q]\n",
    "#V, I, X, k, t_ind, A\n",
    "\n",
    "#for probability approach\n",
    "V_bool = {(q, r): model.NewBoolVar(f'V_bool_{q},{r}') for q in range(Q) for r in range(R)}\n",
    "#TODO : remove after debug\n",
    "index_run = {q: model.NewIntVar(0, R - 1, f'index_run_{q}') for q in range(Q)}\n",
    "\n",
    "runtime_runs = {r: model.NewIntVar(T_min, int(T.max() * Q), f'runtime_runs_{r}') for r in range(R)}\n",
    "\n",
    "runtime_queries = {q: model.NewIntVar(T_min, int(T.max() * Q), f'runtime_queries_{q}') for q in range(Q)}\n",
    "\n",
    "runtime_paths = {p: model.NewIntVar(T_min, int(T.max() * Q), f'runtime_paths_{q}') for p in range(num_paths)}\n",
    "\n",
    "\n",
    "proba_variables = probas, num_paths, path_sets_idx\n",
    "\n",
    "max_runtime_path = model.NewIntVar(int(T_min * min(probas_int)), int(T.max() * max(probas_int) * Q), f'max_run_path')\n",
    "\n",
    "variables = V, I, X, k, t_ind, A, (V_bool, index_run, runtime_runs, runtime_queries, runtime_paths, max_runtime_path)\n",
    "\n",
    "normal_exec = True"
   ]
  },
  {
   "cell_type": "code",
   "execution_count": 17,
   "id": "f89f69e8-e587-4e63-8c7f-8ca9e05c1e2a",
   "metadata": {},
   "outputs": [
    {
     "name": "stdout",
     "output_type": "stream",
     "text": [
      "normal execution\n"
     ]
    }
   ],
   "source": [
    "#Define program\n",
    "# 1\n",
    "for q in range(Q):\n",
    "    for r in range(R):\n",
    "        model.AddElement(I[q, r], list(A[q, :]), V[q, r])\n",
    "    model.AddAllDifferent([I[q, r] for r in range(R)])\n",
    "# 2\n",
    "for r in range(R):\n",
    "    if C_ is None:\n",
    "        model.Add(sum(V[q, r] for q in range(Q)) <= C)\n",
    "    else:\n",
    "        model.Add(sum(V[q, r] for q in range(Q)) == C_)\n",
    "# 3\n",
    "for q in range(Q):\n",
    "    for r in range(R):\n",
    "        model.AddElement(V[q, r], list(T[q, :]), t_ind[q, r])\n",
    "for r in range(R):\n",
    "    model.AddMaxEquality(k[r], [t_ind[q, r] for q in range(Q)])\n",
    "\n",
    "if probas is None:\n",
    "    obj = sum(k[r] for r in range(R))\n",
    "else :\n",
    "    #Get runtime of each run\n",
    "    for r in range(R):\n",
    "        model.Add(runtime_runs[r] == sum(k[rr] for rr in range(r + 1)))\n",
    "        \n",
    "    #Get index of which run each query is\n",
    "    for q in range(Q):\n",
    "        for r in range(R):\n",
    "            model.Add(V[q,r] > 0).OnlyEnforceIf(V_bool[q,r])\n",
    "            model.Add(V[q,r] == 0).OnlyEnforceIf(V_bool[q,r].Not())\n",
    "\n",
    "            \n",
    "    for q in range(Q):\n",
    "        model.Add(index_run[q]==0).OnlyEnforceIf([V_bool[q,r].Not() for r in range(R)]) \n",
    "        \n",
    "        model.Add(runtime_queries[q]==0).OnlyEnforceIf([V_bool[q,r].Not() for r in range(R)]) \n",
    "        for r in range(R):\n",
    "            model.Add(index_run[q]== r).OnlyEnforceIf(V_bool[q,r]) \n",
    "            model.Add(runtime_queries[q]== runtime_runs[r]).OnlyEnforceIf(V_bool[q,r]) \n",
    "            \n",
    "        \n",
    "    #Set path runtime\n",
    "    for (id_p, path_set) in enumerate(path_sets_idx):\n",
    "        model.AddMaxEquality(runtime_paths[id_p], [runtime_queries[q] for q in path_set])\n",
    "    \n",
    "    if normal_exec:\n",
    "        print(\"normal execution\")\n",
    "        obj = sum(probas[p] * runtime_paths[p] for p in range(num_paths))\n",
    "    else :\n",
    "        print(\"alternative execution\")\n",
    "        model.AddMaxEquality(max_runtime_path, [probas_int[p] * runtime_paths[p] for p in range(num_paths)])\n",
    "        obj = max_runtime_path\n",
    "    \n",
    "\n",
    "model.Minimize(obj)"
   ]
  },
  {
   "cell_type": "code",
   "execution_count": 18,
   "id": "6b47fe66-4507-459d-8ed9-cebc1d9990f9",
   "metadata": {},
   "outputs": [
    {
     "name": "stdout",
     "output_type": "stream",
     "text": [
      "OPTIMAL\n"
     ]
    }
   ],
   "source": [
    "start_time = time.time()\n",
    "solver = cp_model.CpSolver()\n",
    "status = solver.Solve(model)\n",
    "process_time = time.time() - start_time\n",
    "print(cp_optimizer.MODEL_STATUS[status])"
   ]
  },
  {
   "cell_type": "code",
   "execution_count": 19,
   "id": "cd3072f9-8eef-44c2-b46b-37e659533740",
   "metadata": {},
   "outputs": [
    {
     "name": "stdout",
     "output_type": "stream",
     "text": [
      "                      q1\n",
      "\n",
      "              q3              q5              \n",
      "\n",
      "        q4        q2        q5        q1        \n",
      "\n",
      "    0.273127   0.119469   0.230516   0.376888   \n"
     ]
    }
   ],
   "source": [
    "utils.print_tree(q_list, probas, index=False)"
   ]
  },
  {
   "cell_type": "markdown",
   "id": "1f94d3af-dfc5-4409-aaa5-0d49d60935af",
   "metadata": {
    "jp-MarkdownHeadingCollapsed": true,
    "tags": []
   },
   "source": [
    "## Drawing graphs"
   ]
  },
  {
   "cell_type": "code",
   "execution_count": null,
   "id": "a78e40a3-d68c-4dee-8b9e-dfb065e0a833",
   "metadata": {},
   "outputs": [],
   "source": [
    "import pandas as pd\n",
    "import matplotlib.pyplot as plt\n",
    "import seaborn as sns"
   ]
  },
  {
   "cell_type": "code",
   "execution_count": null,
   "id": "349169aa-7654-43e7-a9a4-545aa3ad838f",
   "metadata": {},
   "outputs": [],
   "source": [
    "def create_plot_paths(path_time, probas, ax):\n",
    "    path_time_2 = [(str(q_s), t) for q_s, t in path_time]\n",
    "    df_path = pd.DataFrame(path_time_2, columns=['variable','value'])\n",
    "    df_path['process'] = \"paths\"\n",
    "    axi = sns.histplot(data=df_path, hue = 'value', y='variable', weights='value',discrete=True, legend=False, ax=ax)\n",
    "    for i, c in enumerate(ax.containers):\n",
    "\n",
    "        labels = [v.get_width() if v.get_width() > 0 else '' for v in c]\n",
    "        labels = [str(labels[j]) + \", Pr=\" +str(round(probas[j], 3)) if str(labels[j]) != '' else '' for j in range(len(probas))] \n",
    "\n",
    "        axi.bar_label(c, labels=labels, label_type='center')\n",
    "        \n",
    "    plt.ylabel('Paths')\n",
    "    plt.xlabel('Time[s]');"
   ]
  },
  {
   "cell_type": "code",
   "execution_count": null,
   "id": "13543aeb-388b-4ee1-9398-137547de8f9c",
   "metadata": {},
   "outputs": [],
   "source": [
    "def get_col_queries(queries, res):\n",
    "    data = {}\n",
    "\n",
    "    for i,q in enumerate(queries) :\n",
    "        s =  str(i + 1) + \".\\n\" + q + \":16\\n\"\n",
    "        t = float(res[q](16))\n",
    "        data.update({s:[t]})\n",
    "    return data\n",
    "    "
   ]
  },
  {
   "cell_type": "code",
   "execution_count": null,
   "id": "e9713c95-15c5-4184-bf53-69bc7c87c0b3",
   "metadata": {},
   "outputs": [],
   "source": [
    "def batch_to_string(batch, index):\n",
    "    t = batch[0]\n",
    "    schedule = batch[1]\n",
    "    s = str(index + 1) +\".\\n\"\n",
    "    for q,cores in schedule :\n",
    "        s +=  q + \":\" + str(cores) + \"\\n\"\n",
    "    return s + \"\\n\" + str(t), t\n",
    "\n",
    "def get_col_schedule(res_schedule):\n",
    "    data = {}\n",
    "\n",
    "    for i, batch in enumerate(res_schedule):\n",
    "        s, t = batch_to_string(batch, i)\n",
    "        data.update({s:[t]})\n",
    "    l_data = len(data)\n",
    "        \n",
    "    return data "
   ]
  },
  {
   "cell_type": "code",
   "execution_count": null,
   "id": "8ecdc1df-ae47-4343-9572-b529a40c4f36",
   "metadata": {},
   "outputs": [],
   "source": [
    "def get_df(data, name_process):\n",
    "    data.update({\"processes\": [name_process]})\n",
    "    df = pd.DataFrame(data=data)\n",
    "\n",
    "    df = df.melt(id_vars=\"processes\")\n",
    "    df.index = range(len(df))[::-1]\n",
    "    df = df.iloc[::-1]\n",
    "    return df"
   ]
  },
  {
   "cell_type": "code",
   "execution_count": null,
   "id": "d8f12948-1ecb-498c-8429-f44f3b12d9a9",
   "metadata": {},
   "outputs": [],
   "source": [
    "#need q_list, res, res_schedule, path_time, probas\n",
    "\n",
    "data_q = get_col_queries(q_list, res)\n",
    "df_q = get_df(data_q, \"sequential\")\n",
    "\n",
    "\n",
    "data_schedule = get_col_schedule(res_schedule)\n",
    "df_schedule = get_df(data_schedule, \"schedule\")\n",
    "\n",
    "dfs = [df_q, df_schedule]"
   ]
  },
  {
   "cell_type": "code",
   "execution_count": null,
   "id": "6f5b3090-07c0-4e94-b599-d19813bba9f9",
   "metadata": {},
   "outputs": [],
   "source": [
    "# plot\n",
    "\n",
    "fig, ax = plt.subplots(nrows=len(dfs) + 1, ncols=1,figsize= (8,6), sharey = False, sharex = True) \n",
    "\n",
    "for idx  in range(len(dfs)):\n",
    "    ax_i = sns.histplot(data=dfs[idx], y='processes', hue='variable', weights='value', discrete=True, multiple='stack', legend=False, ax=ax[idx])\n",
    "\n",
    "    # iterate through each container\n",
    "    for i, c in enumerate(ax_i.containers):\n",
    "        # Optional: if the segment is small or 0, customize the labels\n",
    "        # labels = [v.get_width() if v.get_width() > 0 else '' for v in c]\n",
    "        labels = [dfs[idx]['variable'].tolist()[-(i +1)]]\n",
    "        labels = [l if not l.isdigit() else \"\" for l in labels]\n",
    "\n",
    "        ax_i.bar_label(c, labels=labels, label_type='center')\n",
    "        ax_i.set(ylabel=None)\n",
    "\n",
    "        \n",
    "create_plot_paths(path_time, probas, ax[-1])\n",
    "\n",
    "plt.xlabel('Time[s]');"
   ]
  },
  {
   "cell_type": "markdown",
   "id": "95fb6be0-7100-4c93-9e67-4a78ed5aa6d6",
   "metadata": {
    "jp-MarkdownHeadingCollapsed": true,
    "tags": []
   },
   "source": [
    "## Second formulation test"
   ]
  },
  {
   "cell_type": "code",
   "execution_count": null,
   "id": "c13e7b6b-91d6-4e40-8178-57bb075283d3",
   "metadata": {},
   "outputs": [],
   "source": [
    "#Define program\n",
    "model = cp_model.CpModel()\n",
    "#Init Variable\n",
    "V = {(q, r): model.NewIntVar(0, C, f'V_{q},{r}') for q in range(Q) for r in range(R)}\n",
    "\n",
    "\n",
    "I = {(q, r): model.NewIntVar(0, R - 1, f'I_{q},{r}') for q in range(Q) for r in range(R)}\n",
    "X = {q: model.NewIntVar(1, C, f'X_{q}') for q in range(Q)}\n",
    "k = {r: model.NewIntVar(0, T.max(), f'k_{r}') for r in range(R)}\n",
    "t_ind = {(q, r): model.NewIntVar(0, T.max(), f't_ind_{q},{r}') for q in range(Q) for r in range(R)}\n",
    "\n",
    "A = np.zeros((Q, R)).astype(int).astype(object)\n",
    "for q in range(Q):\n",
    "    A[q, -1] = X[q]\n",
    "#V, I, X, k, t_ind, A\n",
    "\n",
    "#for probability approach\n",
    "V_bool = {(q, r): model.NewBoolVar(f'V_bool_{q},{r}') for q in range(Q) for r in range(R)}\n",
    "index_run_q = {q: model.NewIntVar(0, R - 1, f'index_run_{q}') for q in range(Q)}\n",
    "index_run_path = {p: model.NewIntVar(0, R - 1, f'index_run_{q}') for p in range(num_paths)}\n",
    "#TODO :check if can reduce range\n",
    "runtime_runs = {r: model.NewIntVar(T_min, T.max() * Q, f'run_r_{r}') for r in range(R)}\n",
    "\n",
    "runtime_paths = {p: model.NewIntVar(T_min, T.max() * Q, f'run_path_{q}') for p in range(num_paths)}"
   ]
  },
  {
   "cell_type": "code",
   "execution_count": null,
   "id": "fa562d35-35ca-4871-bdaf-b3c90bf5e7b1",
   "metadata": {},
   "outputs": [],
   "source": [
    "#Define program\n",
    "# 1\n",
    "for q in range(Q):\n",
    "    for r in range(R):\n",
    "        model.AddElement(I[q, r], list(A[q, :]), V[q, r])\n",
    "    model.AddAllDifferent([I[q, r] for r in range(R)])\n",
    "# 2\n",
    "for r in range(R):\n",
    "    if C_ is None:\n",
    "        model.Add(sum(V[q, r] for q in range(Q)) <= C)\n",
    "    else:\n",
    "        model.Add(sum(V[q, r] for q in range(Q)) == C_)\n",
    "# 3\n",
    "for q in range(Q):\n",
    "    for r in range(R):\n",
    "        model.AddElement(V[q, r], list(T[q, :]), t_ind[q, r])\n",
    "for r in range(R):\n",
    "    model.AddMaxEquality(k[r], [t_ind[q, r] for q in range(Q)])\n",
    "\n",
    "if probas is None:\n",
    "    obj = sum(k[r] for r in range(R))\n",
    "else :\n",
    "    #Get index of which run each query is\n",
    "    for q in range(Q):\n",
    "        for r in range(R):\n",
    "            model.Add(V[q,r] > 0).OnlyEnforceIf(V_bool[q,r])\n",
    "            model.Add(V[q,r] == 0).OnlyEnforceIf(V_bool[q,r].Not())\n",
    "\n",
    "    for q in range(Q):\n",
    "        model.Add(index_run_q[q]==0).OnlyEnforceIf([V_bool[q,r].Not() for r in range(R)]) \n",
    "        for r in range(R):\n",
    "            model.Add(index_run_q[q]== r).OnlyEnforceIf(V_bool[q,r]) \n",
    "            \n",
    "    #Get runtime of each run\n",
    "    for r in range(R):\n",
    "        model.Add(runtime_runs[r] == sum(k[rr] for rr in range(r + 1)))\n",
    "        \n",
    "    #Get index path\n",
    "    for (p, path_set) in enumerate(path_sets_idx):\n",
    "        model.AddMaxEquality(index_run_path[p], [index_run_q[q] for q in path_set])\n",
    "        \n",
    "    #Get runtime path\n",
    "    for p in range(num_paths):\n",
    "        model.AddElement(index_run_path[p], runtime_runs, runtime_paths[p])\n",
    "        \n",
    "    obj = sum(probas[p] * runtime_paths[p] for p in range(num_paths)) +  reg_factor *sum(k[r] for r in range(R))\n",
    "\n",
    "model.Minimize(obj)"
   ]
  },
  {
   "cell_type": "code",
   "execution_count": null,
   "id": "8c1a848b-7b17-478e-8639-ba7118273caf",
   "metadata": {},
   "outputs": [],
   "source": [
    "start_time = time.time()\n",
    "solver = cp_model.CpSolver()\n",
    "status = solver.Solve(model)\n",
    "process_time = time.time() - start_time\n",
    "print(cp_optimizer.MODEL_STATUS[status])\n",
    "if status == cp_model.OPTIMAL or status == cp_model.FEASIBLE:\n",
    "    # (V, _, _, k, _, _) = variables\n",
    "    runtime, res_schedule = cp_optimizer.model_to_solution(solver, R, V, k, q_list, precision)\n",
    "else:\n",
    "    runtime, res_schedule = -1, []\n",
    "\n",
    "process_time, runtime, res_schedule"
   ]
  },
  {
   "cell_type": "code",
   "execution_count": null,
   "id": "6d0b05ee-0aa8-4819-869e-e08852cf4bad",
   "metadata": {},
   "outputs": [],
   "source": [
    "[cp_model.UNKNOWN, cp_model.MODEL_INVALID,   cp_model.FEASIBLE, cp_model.INFEASIBLE, cp_model.OPTIMAL]"
   ]
  },
  {
   "cell_type": "code",
   "execution_count": null,
   "id": "a5049220-e930-45b5-bcd5-d45414c8d575",
   "metadata": {},
   "outputs": [],
   "source": []
  },
  {
   "cell_type": "markdown",
   "id": "b604fe18-9e68-4501-8173-6ce340e63a37",
   "metadata": {
    "tags": []
   },
   "source": [
    "## Split proba test"
   ]
  },
  {
   "cell_type": "code",
   "execution_count": 25,
   "id": "2925335e-ccc7-4879-a74b-746bbc92685d",
   "metadata": {},
   "outputs": [
    {
     "name": "stdout",
     "output_type": "stream",
     "text": [
      "                      q1\n",
      "\n",
      "              q3              q5              \n",
      "\n",
      "        q4        q2        q5        q1        \n",
      "\n",
      "    0.273127   0.119469   0.230516   0.376888   \n"
     ]
    }
   ],
   "source": [
    "utils.print_tree(q_list, probas)"
   ]
  },
  {
   "cell_type": "code",
   "execution_count": 26,
   "id": "90e30290-eaae-4714-9319-ee27171e9d95",
   "metadata": {},
   "outputs": [
    {
     "name": "stdout",
     "output_type": "stream",
     "text": [
      "14\n"
     ]
    },
    {
     "ename": "AttributeError",
     "evalue": "module 'cp_optimizer' has no attribute 'get_program_results'",
     "output_type": "error",
     "traceback": [
      "\u001b[0;31m---------------------------------------------------------------------------\u001b[0m",
      "\u001b[0;31mAttributeError\u001b[0m                            Traceback (most recent call last)",
      "Input \u001b[0;32mIn [26]\u001b[0m, in \u001b[0;36m<cell line: 9>\u001b[0;34m()\u001b[0m\n\u001b[1;32m      4\u001b[0m \u001b[38;5;28mprint\u001b[39m(C_)\n\u001b[1;32m      5\u001b[0m process_time, var_results \u001b[38;5;241m=\u001b[39m cp_optimizer\u001b[38;5;241m.\u001b[39moptimize(q_list, res, C, R\u001b[38;5;241m=\u001b[39mR_, precision\u001b[38;5;241m=\u001b[39mprecision, \n\u001b[1;32m      6\u001b[0m                                                   C_\u001b[38;5;241m=\u001b[39mC_,\n\u001b[1;32m      7\u001b[0m                                                   proba_variables\u001b[38;5;241m=\u001b[39mproba_var, reg_factor\u001b[38;5;241m=\u001b[39m\u001b[38;5;241m0.0003\u001b[39m\n\u001b[1;32m      8\u001b[0m                                                  )\n\u001b[0;32m----> 9\u001b[0m \u001b[43mcp_optimizer\u001b[49m\u001b[38;5;241;43m.\u001b[39;49m\u001b[43mget_program_results\u001b[49m(\u001b[38;5;241m*\u001b[39mvar_results, \u001b[38;5;28;01mTrue\u001b[39;00m)\n",
      "\u001b[0;31mAttributeError\u001b[0m: module 'cp_optimizer' has no attribute 'get_program_results'"
     ]
    }
   ],
   "source": [
    "proba_var = cp_optimizer.get_proba_variables(q_list, probas)\n",
    "R_ = 2\n",
    "C_ = 2 * len(q_list)\n",
    "print(C_)\n",
    "process_time, var_results = cp_optimizer.optimize(q_list, res, C, R=R_, precision=precision, \n",
    "                                                  C_=C_,\n",
    "                                                  proba_variables=proba_var, reg_factor=0.0003\n",
    "                                                 )\n",
    "cp_optimizer.get_program_results(*var_results, True)"
   ]
  },
  {
   "cell_type": "code",
   "execution_count": 27,
   "id": "ec28024d-93c8-4932-bee0-3e42caa0ce02",
   "metadata": {},
   "outputs": [
    {
     "ename": "AttributeError",
     "evalue": "module 'cp_optimizer' has no attribute 'get_program_results'",
     "output_type": "error",
     "traceback": [
      "\u001b[0;31m---------------------------------------------------------------------------\u001b[0m",
      "\u001b[0;31mAttributeError\u001b[0m                            Traceback (most recent call last)",
      "Input \u001b[0;32mIn [27]\u001b[0m, in \u001b[0;36m<cell line: 2>\u001b[0;34m()\u001b[0m\n\u001b[1;32m      1\u001b[0m probas, num_paths, path_sets_idx \u001b[38;5;241m=\u001b[39m proba_var\n\u001b[0;32m----> 2\u001b[0m _, res_schedule \u001b[38;5;241m=\u001b[39m \u001b[43mcp_optimizer\u001b[49m\u001b[38;5;241;43m.\u001b[39;49m\u001b[43mget_program_results\u001b[49m(\u001b[38;5;241m*\u001b[39mvar_results, \u001b[38;5;28;01mFalse\u001b[39;00m)\n",
      "\u001b[0;31mAttributeError\u001b[0m: module 'cp_optimizer' has no attribute 'get_program_results'"
     ]
    }
   ],
   "source": [
    "\n",
    "probas, num_paths, path_sets_idx = proba_var\n",
    "_, res_schedule = cp_optimizer.get_program_results(*var_results, False)\n",
    "\n"
   ]
  },
  {
   "cell_type": "code",
   "execution_count": null,
   "id": "02eea1d6-e06b-486f-8332-e43f1bffc42e",
   "metadata": {},
   "outputs": [],
   "source": [
    "left_queries, _ = zip(*res_schedule[0])\n",
    "right_queries, _ = zip(*res_schedule[1])\n",
    "left_queries = set(left_queries)\n",
    "right_queries = set(right_queries)\n",
    "\n",
    "# 1. split paths : determine which belong only to left\n",
    "left_paths = []\n",
    "right_paths_raw = []\n",
    "for p in path_sets_idx:\n",
    "    intersect = p.intersection(right_queries)\n",
    "    if len(intersect) == 0:\n",
    "        left_paths.append(p)\n",
    "    else :\n",
    "        right_paths_raw.append(p)\n",
    "\n",
    "# 2. select queries appearing only in right paths\n",
    "remain_queries = left_queries.intersection(set.union(*left_paths))\n",
    "left_queries = left_queries.difference(remain_queries)\n",
    "right_queries = right_queries.union(remain_queries)\n",
    "\n",
    "# 3. redefine paths right containing queries in left\n",
    "right_paths = []\n",
    "for p in right_paths_raw:\n",
    "    new_p = right_queries.intersection(p)\n",
    "    right_paths.append(new_p)\n",
    "\n",
    "# 4. redefine left and right q_list\n",
    "q_list_left = [q_list[i] for i in sorted(left_queries)]\n",
    "q_list_right = [q_list[i] for i in sorted(right_queries)]\n",
    "\n",
    "# Note : need to keep left_queries and right_queries to reconstruct identically"
   ]
  },
  {
   "cell_type": "code",
   "execution_count": null,
   "id": "1289b9c5-69c7-47c3-a805-f2fc28e6b060",
   "metadata": {},
   "outputs": [],
   "source": []
  }
 ],
 "metadata": {
  "kernelspec": {
   "display_name": "Python 3 (ipykernel)",
   "language": "python",
   "name": "python3"
  },
  "language_info": {
   "codemirror_mode": {
    "name": "ipython",
    "version": 3
   },
   "file_extension": ".py",
   "mimetype": "text/x-python",
   "name": "python",
   "nbconvert_exporter": "python",
   "pygments_lexer": "ipython3",
   "version": "3.9.7"
  }
 },
 "nbformat": 4,
 "nbformat_minor": 5
}
