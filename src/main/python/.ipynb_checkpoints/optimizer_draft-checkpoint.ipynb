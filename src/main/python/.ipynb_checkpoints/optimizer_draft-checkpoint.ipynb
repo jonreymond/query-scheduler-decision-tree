{
 "cells": [
  {
   "cell_type": "code",
   "execution_count": 1,
   "id": "8fc06521-7b42-4439-abf2-bc3e05cd0a1a",
   "metadata": {},
   "outputs": [],
   "source": [
    "import numpy as np\n",
    "import pandas as pd\n",
    "import cp_optimizer\n",
    "from scipy.interpolate import interp1d\n",
    "import utils\n",
    "import cp_optimizer\n",
    "import pandas as pd\n",
    "import matplotlib.pyplot as plt\n",
    "import seaborn as sns"
   ]
  },
  {
   "cell_type": "code",
   "execution_count": 2,
   "id": "843e4a49-7e38-4efb-8406-0793b6874e88",
   "metadata": {},
   "outputs": [],
   "source": [
    "q_list = [\"q1\", \"q3\", \"q5\", \"q4\",\"q2\", \"q5\", \"q1\"]\n",
    "\n",
    "res = utils.interpolate(utils.load(q_list, num_partitions='16'))\n",
    "\n",
    "precision = 1000\n",
    "C =16\n",
    "C_ = None # for split\n",
    "Q = len(q_list)\n",
    "R = int(round(Q / 2))\n",
    "# reg_factor = 0.001"
   ]
  },
  {
   "cell_type": "code",
   "execution_count": 4,
   "id": "f6d36810-de7d-4eb9-ae6a-315bec3c9c2f",
   "metadata": {},
   "outputs": [],
   "source": [
    "path_sets_idx = utils.get_path_sets(range(len(q_list)))\n",
    "num_paths = len(path_sets_idx)\n",
    "probas = np.random.random(size=num_paths)\n",
    "probas = list(probas / sum(probas))\n",
    "\n",
    "proba_variables = cp_optimizer.get_proba_variables(q_list, probas)"
   ]
  },
  {
   "cell_type": "code",
   "execution_count": 5,
   "id": "98ab5d1b-c1df-43fe-a90e-7dc279eef123",
   "metadata": {},
   "outputs": [
    {
     "ename": "TypeError",
     "evalue": "cannot unpack non-iterable NoneType object",
     "output_type": "error",
     "traceback": [
      "\u001b[0;31m---------------------------------------------------------------------------\u001b[0m",
      "\u001b[0;31mTypeError\u001b[0m                                 Traceback (most recent call last)",
      "Input \u001b[0;32mIn [5]\u001b[0m, in \u001b[0;36m<cell line: 1>\u001b[0;34m()\u001b[0m\n\u001b[0;32m----> 1\u001b[0m \u001b[43mcp_optimizer\u001b[49m\u001b[38;5;241;43m.\u001b[39;49m\u001b[43mcompute_result\u001b[49m\u001b[43m(\u001b[49m\u001b[43mq_list\u001b[49m\u001b[43m,\u001b[49m\u001b[43m \u001b[49m\u001b[43mres\u001b[49m\u001b[43m,\u001b[49m\u001b[43m \u001b[49m\u001b[43mC\u001b[49m\u001b[43m,\u001b[49m\u001b[43m \u001b[49m\u001b[43mR\u001b[49m\u001b[43m,\u001b[49m\u001b[43m \u001b[49m\u001b[43mprecision\u001b[49m\u001b[43m,\u001b[49m\u001b[43m \u001b[49m\u001b[43mC_\u001b[49m\u001b[38;5;241;43m=\u001b[39;49m\u001b[38;5;28;43;01mNone\u001b[39;49;00m\u001b[43m,\u001b[49m\u001b[43m \u001b[49m\u001b[43mproba_variables\u001b[49m\u001b[38;5;241;43m=\u001b[39;49m\u001b[38;5;28;43;01mNone\u001b[39;49;00m\u001b[43m)\u001b[49m\n",
      "File \u001b[0;32m~/Desktop/epfl/ma4/project/semester_project/src/main/python/cp_optimizer.py:187\u001b[0m, in \u001b[0;36mcompute_result\u001b[0;34m(q_list, res, C, R, precision, C_, proba_variables, reg_factor)\u001b[0m\n\u001b[1;32m    185\u001b[0m \u001b[38;5;28;01mdef\u001b[39;00m \u001b[38;5;21mcompute_result\u001b[39m(q_list, res, C, R, precision, C_\u001b[38;5;241m=\u001b[39m\u001b[38;5;28;01mNone\u001b[39;00m, proba_variables\u001b[38;5;241m=\u001b[39m\u001b[38;5;28;01mNone\u001b[39;00m, reg_factor\u001b[38;5;241m=\u001b[39m\u001b[38;5;28;01mNone\u001b[39;00m):\n\u001b[1;32m    186\u001b[0m     process_time, x \u001b[38;5;241m=\u001b[39m optimize(q_list, res, C, R, precision, C_, proba_variables, reg_factor)\n\u001b[0;32m--> 187\u001b[0m     \u001b[38;5;28;01mreturn\u001b[39;00m process_time, \u001b[43mmodel_to_solution\u001b[49m\u001b[43m(\u001b[49m\u001b[38;5;241;43m*\u001b[39;49m\u001b[43mx\u001b[49m\u001b[43m,\u001b[49m\u001b[43m \u001b[49m\u001b[43mname_queries\u001b[49m\u001b[38;5;241;43m=\u001b[39;49m\u001b[38;5;28;43;01mFalse\u001b[39;49;00m\u001b[43m,\u001b[49m\u001b[43m \u001b[49m\u001b[43mproba_variables\u001b[49m\u001b[38;5;241;43m=\u001b[39;49m\u001b[38;5;28;43;01mNone\u001b[39;49;00m\u001b[43m)\u001b[49m\n",
      "File \u001b[0;32m~/Desktop/epfl/ma4/project/semester_project/src/main/python/cp_optimizer.py:151\u001b[0m, in \u001b[0;36mmodel_to_solution\u001b[0;34m(solver, R, variables, q_list, precision, name_queries, proba_variables)\u001b[0m\n\u001b[1;32m    149\u001b[0m \u001b[38;5;28;01mdef\u001b[39;00m \u001b[38;5;21mmodel_to_solution\u001b[39m(solver, R, variables, q_list, precision, name_queries\u001b[38;5;241m=\u001b[39m\u001b[38;5;28;01mTrue\u001b[39;00m, proba_variables\u001b[38;5;241m=\u001b[39m\u001b[38;5;28;01mNone\u001b[39;00m):\n\u001b[1;32m    150\u001b[0m     (V, I, X, k, t_ind, A, remain) \u001b[38;5;241m=\u001b[39m variables\n\u001b[0;32m--> 151\u001b[0m     V_bool, index_run, runtime_runs, runtime_queries, runtime_paths \u001b[38;5;241m=\u001b[39m remain\n\u001b[1;32m    152\u001b[0m     \u001b[38;5;28;01mif\u001b[39;00m proba_variables \u001b[38;5;129;01mis\u001b[39;00m \u001b[38;5;129;01mnot\u001b[39;00m \u001b[38;5;28;01mNone\u001b[39;00m:\n\u001b[1;32m    153\u001b[0m         probas, num_paths, path_sets_idx \u001b[38;5;241m=\u001b[39m proba_variables\n",
      "\u001b[0;31mTypeError\u001b[0m: cannot unpack non-iterable NoneType object"
     ]
    }
   ],
   "source": [
    "cp_optimizer.compute_result(q_list, res, C, R, precision, C_=None, proba_variables=None)"
   ]
  },
  {
   "cell_type": "code",
   "execution_count": null,
   "id": "f555afb2-7f4a-4b7d-8aec-2efb744f39f7",
   "metadata": {},
   "outputs": [],
   "source": []
  }
 ],
 "metadata": {
  "kernelspec": {
   "display_name": "Python 3 (ipykernel)",
   "language": "python",
   "name": "python3"
  },
  "language_info": {
   "codemirror_mode": {
    "name": "ipython",
    "version": 3
   },
   "file_extension": ".py",
   "mimetype": "text/x-python",
   "name": "python",
   "nbconvert_exporter": "python",
   "pygments_lexer": "ipython3",
   "version": "3.9.7"
  }
 },
 "nbformat": 4,
 "nbformat_minor": 5
}
