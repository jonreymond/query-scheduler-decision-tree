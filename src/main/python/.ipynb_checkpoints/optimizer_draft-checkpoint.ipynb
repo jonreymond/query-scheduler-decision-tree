{
 "cells": [
  {
   "cell_type": "code",
   "execution_count": 3,
   "id": "8fc06521-7b42-4439-abf2-bc3e05cd0a1a",
   "metadata": {},
   "outputs": [],
   "source": [
    "import numpy as np\n",
    "import pandas as pd\n",
    "import cp_optimizer\n",
    "from scipy.interpolate import interp1d\n",
    "import utils\n",
    "import cp_optimizer\n",
    "import pandas as pd\n",
    "import matplotlib.pyplot as plt\n",
    "import seaborn as sns\n",
    "import splitter"
   ]
  },
  {
   "cell_type": "markdown",
   "id": "2a3264bb-c941-4acc-842c-752c4df569dd",
   "metadata": {
    "jp-MarkdownHeadingCollapsed": true,
    "tags": []
   },
   "source": [
    "## sample to how to use the cp without split"
   ]
  },
  {
   "cell_type": "code",
   "execution_count": 2,
   "id": "843e4a49-7e38-4efb-8406-0793b6874e88",
   "metadata": {},
   "outputs": [],
   "source": [
    "q_list = [\"q1\", \"q3\", \"q5\", \"q4\",\"q2\", \"q5\", \"q1\"]\n",
    "\n",
    "res = utils.interpolate(utils.load(q_list, num_partitions='16'))\n",
    "\n",
    "precision = 1000\n",
    "C =16\n",
    "C_ = None # for split\n",
    "Q = len(q_list)\n",
    "R = int(round(Q / 2))\n",
    "# reg_factor = 0.001"
   ]
  },
  {
   "cell_type": "code",
   "execution_count": 3,
   "id": "f6d36810-de7d-4eb9-ae6a-315bec3c9c2f",
   "metadata": {},
   "outputs": [],
   "source": [
    "path_sets_idx = utils.get_path_sets(range(len(q_list)))\n",
    "num_paths = len(path_sets_idx)\n",
    "probas = np.random.random(size=num_paths)\n",
    "probas = list(probas / sum(probas))\n",
    "\n",
    "proba_variables = utils.get_proba_variables(q_list, probas)"
   ]
  },
  {
   "cell_type": "code",
   "execution_count": 4,
   "id": "98ab5d1b-c1df-43fe-a90e-7dc279eef123",
   "metadata": {},
   "outputs": [
    {
     "data": {
      "text/plain": [
       "(1.0604300498962402,\n",
       " (32.385,\n",
       "  [(11.447, [(0, 4), (2, 8), (6, 4)]),\n",
       "   (6.088, [(5, 16)]),\n",
       "   (10.463, [(1, 11), (3, 5)]),\n",
       "   (4.387, [(4, 16)])],\n",
       "  [({0, 1, 3}, 27.998),\n",
       "   ({0, 1, 4}, 32.385),\n",
       "   ({0, 2, 5}, 17.535),\n",
       "   ({0, 2, 6}, 11.447)],\n",
       "  [11.447, 17.535, 27.998, 32.385],\n",
       "  [11.447, 27.998, 11.447, 27.998, 32.385, 17.535, 11.447]))"
      ]
     },
     "execution_count": 4,
     "metadata": {},
     "output_type": "execute_result"
    }
   ],
   "source": [
    "cp_optimizer.compute_result(q_list, res, C, R, precision, C_=None, proba_variables=proba_variables, name_queries=False)"
   ]
  },
  {
   "cell_type": "code",
   "execution_count": 5,
   "id": "30b3a26f-8c32-435d-865a-ad0c5f85f8cf",
   "metadata": {},
   "outputs": [
    {
     "data": {
      "text/plain": [
       "(1.3593120574951172,\n",
       " (30.195, [[(0, 8), (6, 8)], [(2, 8), (5, 8)], [(1, 8), (3, 4), (4, 4)]]))"
      ]
     },
     "execution_count": 5,
     "metadata": {},
     "output_type": "execute_result"
    }
   ],
   "source": [
    "cp_optimizer.compute_result(q_list, res, C, R, precision, C_=None, proba_variables=None, name_queries=False)"
   ]
  },
  {
   "cell_type": "code",
   "execution_count": 6,
   "id": "ce4e88d7-f964-4a1b-ba9e-7a8100f3897d",
   "metadata": {},
   "outputs": [
    {
     "data": {
      "text/plain": [
       "[[(0, 8), (6, 8)],\n",
       " [(1, 8), (3, 4), (4, 4)],\n",
       " [(2, 8), (5, 8)],\n",
       " [(0, 8), (6, 8)],\n",
       " [(1, 8), (3, 4), (4, 4)],\n",
       " [(2, 8), (5, 8)]]"
      ]
     },
     "execution_count": 6,
     "metadata": {},
     "output_type": "execute_result"
    }
   ],
   "source": [
    "[[(0, 8), (6, 8)], [(1, 8), (3, 4), (4, 4)], [(2, 8), (5, 8)]] + [[(0, 8), (6, 8)], [(1, 8), (3, 4), (4, 4)], [(2, 8), (5, 8)]]"
   ]
  },
  {
   "cell_type": "markdown",
   "id": "a631ddad-f6b0-4928-a013-e4168cf866ed",
   "metadata": {},
   "source": [
    "## Split section"
   ]
  },
  {
   "cell_type": "code",
   "execution_count": 4,
   "id": "41358fed-cdd5-4b3e-b613-840849534b69",
   "metadata": {},
   "outputs": [],
   "source": [
    "seed = 2"
   ]
  },
  {
   "cell_type": "code",
   "execution_count": 5,
   "id": "67852fe6-479b-4804-a9ec-f426d15cc009",
   "metadata": {},
   "outputs": [],
   "source": [
    "q_list = [\"q1\", \"q3\", \"q5\", \"q4\",\"q2\", \"q5\", \"q1\",\n",
    "         \"q1\", \"q3\", \"q5\", \"q4\",\"q2\", \"q5\", \"q1\", \"q1\"]\n",
    "         #  ,\n",
    "         # \"q1\", \"q3\", \"q5\", \"q4\",\"q2\", \"q5\", \"q1\",\n",
    "         # \"q1\", \"q3\", \"q5\", \"q4\",\"q2\", \"q5\", \"q1\", \"q1\", \"q5\"]\n",
    "\n",
    "res = utils.interpolate(utils.load(q_list, num_partitions='16'))\n",
    "\n",
    "precision = 1000\n",
    "C =16\n",
    "C_ = None # for split\n",
    "Q = len(q_list)\n",
    "R = int(round(Q / 2))\n",
    "reg_factor = None  # 0.001\n",
    "normal_exec = True\n",
    "normal_exec_split = False\n",
    "# reg_factor = 0.001\n",
    "\n",
    "path_sets_idx = utils.get_path_sets(range(len(q_list)))\n",
    "num_paths = len(path_sets_idx)\n",
    "np.random.seed(seed)\n",
    "probas = np.random.random(size=num_paths)\n",
    "probas = list(probas / sum(probas))\n",
    "\n",
    "proba_variables = utils.get_proba_variables(q_list, probas)"
   ]
  },
  {
   "cell_type": "code",
   "execution_count": 6,
   "id": "45a6f3a6-b183-478d-aa5f-7533b2c1e955",
   "metadata": {},
   "outputs": [
    {
     "name": "stdout",
     "output_type": "stream",
     "text": [
      "                                           0\n",
      "\n",
      "                             1                             2                             \n",
      "\n",
      "                 3                 4                 5                 6                 \n",
      "\n",
      "         7         8         9         10         11         12         13         14         \n",
      "\n",
      "     0.144296   0.008581   0.181915   0.144074   0.139124   0.109327   0.06773   0.204953   \n"
     ]
    }
   ],
   "source": [
    "utils.print_tree(q_list, probas, index=True)"
   ]
  },
  {
   "cell_type": "code",
   "execution_count": 7,
   "id": "962ef364-f1b2-47b0-a692-84592c3d4901",
   "metadata": {},
   "outputs": [
    {
     "ename": "TypeError",
     "evalue": "process_all() got multiple values for argument 'query_name'",
     "output_type": "error",
     "traceback": [
      "\u001b[0;31m---------------------------------------------------------------------------\u001b[0m",
      "\u001b[0;31mTypeError\u001b[0m                                 Traceback (most recent call last)",
      "Input \u001b[0;32mIn [7]\u001b[0m, in \u001b[0;36m<cell line: 1>\u001b[0;34m()\u001b[0m\n\u001b[0;32m----> 1\u001b[0m new_final2 \u001b[38;5;241m=\u001b[39m \u001b[43msplitter\u001b[49m\u001b[38;5;241;43m.\u001b[39;49m\u001b[43mprocess_all\u001b[49m\u001b[43m(\u001b[49m\u001b[43mq_list\u001b[49m\u001b[43m,\u001b[49m\u001b[43m \u001b[49m\u001b[43mres\u001b[49m\u001b[43m,\u001b[49m\u001b[43m \u001b[49m\u001b[43mC\u001b[49m\u001b[43m,\u001b[49m\u001b[43m \u001b[49m\u001b[43mR\u001b[49m\u001b[43m,\u001b[49m\u001b[43m \u001b[49m\u001b[43mprecision\u001b[49m\u001b[43m,\u001b[49m\u001b[43m \u001b[49m\u001b[43mproba_variables\u001b[49m\u001b[43m,\u001b[49m\n\u001b[1;32m      2\u001b[0m \u001b[43m                                     \u001b[49m\u001b[43mreg_factor\u001b[49m\u001b[43m,\u001b[49m\u001b[43m \u001b[49m\u001b[43mnormal_exec\u001b[49m\u001b[43m,\u001b[49m\u001b[43m \u001b[49m\u001b[43mnormal_exec_split\u001b[49m\u001b[43m,\u001b[49m\u001b[43m \u001b[49m\u001b[43mquery_name\u001b[49m\u001b[38;5;241;43m=\u001b[39;49m\u001b[38;5;28;43;01mTrue\u001b[39;49;00m\u001b[43m)\u001b[49m\n\u001b[1;32m      3\u001b[0m utils\u001b[38;5;241m.\u001b[39mprint_proba_results(new_final2)\n",
      "\u001b[0;31mTypeError\u001b[0m: process_all() got multiple values for argument 'query_name'"
     ]
    }
   ],
   "source": [
    "new_final2 = splitter.process_all(q_list, res, C, precision, proba_variables,\n",
    "                                     reg_factor, normal_exec, normal_exec_split, query_name=True)\n",
    "utils.print_proba_results(new_final2)"
   ]
  },
  {
   "cell_type": "code",
   "execution_count": null,
   "id": "9d588856-3520-41dc-86f8-8648c9a9626d",
   "metadata": {},
   "outputs": [],
   "source": []
  }
 ],
 "metadata": {
  "kernelspec": {
   "display_name": "Python 3 (ipykernel)",
   "language": "python",
   "name": "python3"
  },
  "language_info": {
   "codemirror_mode": {
    "name": "ipython",
    "version": 3
   },
   "file_extension": ".py",
   "mimetype": "text/x-python",
   "name": "python",
   "nbconvert_exporter": "python",
   "pygments_lexer": "ipython3",
   "version": "3.9.7"
  }
 },
 "nbformat": 4,
 "nbformat_minor": 5
}
