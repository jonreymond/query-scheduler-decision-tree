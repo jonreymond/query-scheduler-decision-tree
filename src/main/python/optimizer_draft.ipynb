{
 "cells": [
  {
   "cell_type": "code",
   "execution_count": 1,
   "id": "8fc06521-7b42-4439-abf2-bc3e05cd0a1a",
   "metadata": {},
   "outputs": [],
   "source": [
    "import cp_optimizer\n",
    "import utils"
   ]
  },
  {
   "cell_type": "code",
   "execution_count": 11,
   "id": "506e505e-f699-477a-b2db-153e3b3b880b",
   "metadata": {},
   "outputs": [],
   "source": [
    "q_list = [\"q1\", \"q3\", \"q2\", \"q4\",\"q2\",\"q2\", \"q5\", \"q6\"]\n"
   ]
  },
  {
   "cell_type": "code",
   "execution_count": 12,
   "id": "36bed934-591a-4ab5-b54f-0c50db32441d",
   "metadata": {},
   "outputs": [],
   "source": [
    "df_queries = utils.load(q_list, num_partitions='16')\n",
    "res = utils.interpolate(df_queries)\n",
    "precision = 10\n",
    "C =16\n",
    "Q = len(q_list)\n",
    "R = int(round(Q / 2))"
   ]
  },
  {
   "cell_type": "code",
   "execution_count": 13,
   "id": "06ce4b2c-f3f6-4f64-a00b-363caa9b829f",
   "metadata": {},
   "outputs": [],
   "source": [
    "q_splitted, procees_time = cp_optimizer.split(q_list, res, C, precision)"
   ]
  },
  {
   "cell_type": "code",
   "execution_count": 14,
   "id": "e426d128-414c-4468-bc94-d18c6c55b028",
   "metadata": {},
   "outputs": [
    {
     "data": {
      "text/plain": [
       "[['q6', 'q4', 'q6', 'q3'],\n",
       " ['q3', 'q4', 'q2', 'q2', 'q2', 'q2', 'q2', 'q4'],\n",
       " ['q1', 'q2', 'q2', 'q5', 'q1', 'q3', 'q5', 'q1']]"
      ]
     },
     "execution_count": 14,
     "metadata": {},
     "output_type": "execute_result"
    }
   ],
   "source": [
    "q_splitted"
   ]
  },
  {
   "cell_type": "code",
   "execution_count": 15,
   "id": "51d9ae57-9777-4078-a5c9-0ffb82e23696",
   "metadata": {},
   "outputs": [
    {
     "name": "stderr",
     "output_type": "stream",
     "text": [
      "^C pressed 1 times. Interrupting the solver. Press 3 times to force termination.\n",
      "^C pressed 1 times. Interrupting the solver. Press 3 times to force termination.\n",
      "^C pressed 2 times. Interrupting the solver. Press 3 times to force termination.\n"
     ]
    }
   ],
   "source": [
    "results = []\n",
    "for qq in q_splitted:\n",
    "    results.append(cp_optimizer.optimize(qq, res, C, R, precision))\n",
    "    print('done')"
   ]
  },
  {
   "cell_type": "code",
   "execution_count": 16,
   "id": "122abeef-1c7b-4383-901b-11cb49db1156",
   "metadata": {},
   "outputs": [],
   "source": [
    "process_time, runtime, res_schedule = cp_optimizer.combine_results(results)"
   ]
  },
  {
   "cell_type": "code",
   "execution_count": 17,
   "id": "8ce896cf-0eb8-4265-9620-cb81a8cd5a27",
   "metadata": {},
   "outputs": [
    {
     "data": {
      "text/plain": [
       "(1713.6121678352356,\n",
       " 101.2,\n",
       " [[('q4', 5), ('q3', 11)],\n",
       "  [('q6', 8), ('q6', 8)],\n",
       "  [('q2', 16)],\n",
       "  [('q2', 4), ('q2', 4), ('q2', 4), ('q2', 4)],\n",
       "  [('q3', 8), ('q4', 4), ('q4', 4)],\n",
       "  [('q1', 16)],\n",
       "  [('q1', 8), ('q1', 8)],\n",
       "  [('q5', 8), ('q5', 8)],\n",
       "  [('q2', 4), ('q2', 4), ('q3', 8)]])"
      ]
     },
     "execution_count": 17,
     "metadata": {},
     "output_type": "execute_result"
    }
   ],
   "source": [
    "process_time, runtime, res_schedule"
   ]
  },
  {
   "cell_type": "code",
   "execution_count": null,
   "id": "e2f5d373-6334-4351-9cfa-57822fd1ef5f",
   "metadata": {},
   "outputs": [],
   "source": []
  }
 ],
 "metadata": {
  "kernelspec": {
   "display_name": "Python 3 (ipykernel)",
   "language": "python",
   "name": "python3"
  },
  "language_info": {
   "codemirror_mode": {
    "name": "ipython",
    "version": 3
   },
   "file_extension": ".py",
   "mimetype": "text/x-python",
   "name": "python",
   "nbconvert_exporter": "python",
   "pygments_lexer": "ipython3",
   "version": "3.9.7"
  }
 },
 "nbformat": 4,
 "nbformat_minor": 5
}
