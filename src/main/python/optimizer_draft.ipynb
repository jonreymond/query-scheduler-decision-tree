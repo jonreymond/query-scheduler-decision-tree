{
 "cells": [
  {
   "cell_type": "code",
   "execution_count": 1,
   "id": "8fc06521-7b42-4439-abf2-bc3e05cd0a1a",
   "metadata": {},
   "outputs": [],
   "source": [
    "import numpy as np\n",
    "import pandas as pd\n",
    "import cp_optimizer\n",
    "from scipy.interpolate import interp1d\n",
    "import utils\n",
    "import cp_optimizer\n",
    "import pandas as pd\n",
    "import matplotlib.pyplot as plt\n",
    "import seaborn as sns"
   ]
  },
  {
   "cell_type": "code",
   "execution_count": 2,
   "id": "843e4a49-7e38-4efb-8406-0793b6874e88",
   "metadata": {},
   "outputs": [],
   "source": [
    "q_list = [\"q1\", \"q3\", \"q5\", \"q4\",\"q2\", \"q5\", \"q1\"]\n",
    "\n",
    "res = utils.interpolate(utils.load(q_list, num_partitions='16'))\n",
    "\n",
    "precision = 1000\n",
    "C =16\n",
    "C_ = None # for split\n",
    "Q = len(q_list)\n",
    "R = int(round(Q / 2))\n",
    "# reg_factor = 0.001"
   ]
  },
  {
   "cell_type": "code",
   "execution_count": 3,
   "id": "f6d36810-de7d-4eb9-ae6a-315bec3c9c2f",
   "metadata": {},
   "outputs": [],
   "source": [
    "path_sets_idx = utils.get_path_sets(range(len(q_list)))\n",
    "num_paths = len(path_sets_idx)\n",
    "probas = np.random.random(size=num_paths)\n",
    "probas = list(probas / sum(probas))\n",
    "\n",
    "proba_variables = cp_optimizer.get_proba_variables(q_list, probas)"
   ]
  },
  {
   "cell_type": "code",
   "execution_count": 4,
   "id": "98ab5d1b-c1df-43fe-a90e-7dc279eef123",
   "metadata": {},
   "outputs": [
    {
     "data": {
      "text/plain": [
       "(1.5017979145050049,\n",
       " (30.195,\n",
       "  [[('q1', 8), ('q1', 8)],\n",
       "   [('q5', 8), ('q5', 8)],\n",
       "   [('q3', 8), ('q4', 4), ('q2', 4)]]))"
      ]
     },
     "execution_count": 4,
     "metadata": {},
     "output_type": "execute_result"
    }
   ],
   "source": [
    "cp_optimizer.compute_result(q_list, res, C, R, precision, C_=None, proba_variables=None)"
   ]
  },
  {
   "cell_type": "markdown",
   "id": "a631ddad-f6b0-4928-a013-e4168cf866ed",
   "metadata": {},
   "source": [
    "## Split section"
   ]
  },
  {
   "cell_type": "code",
   "execution_count": 5,
   "id": "41358fed-cdd5-4b3e-b613-840849534b69",
   "metadata": {},
   "outputs": [],
   "source": [
    "MAX_LEN_QUERIES = 14\n",
    "def split(q_list, res, C, precision, proba_variables=None, normal_exec=True,reg_factor=None):\n",
    "    if len(q_list) > MAX_LEN_QUERIES:\n",
    "        R = 2\n",
    "        Q = len(q_list)\n",
    "        C_ = 2 * Q\n",
    "        process_time, (runtime, res_schedule) = cp_optimizer.compute_result(q_list, res, C, R, precision, name_queries=False, \n",
    "                                                                            C_=C_, split=True, proba_variables=proba_variables, \n",
    "                                                                            normal_exec=normal_exec, reg_factor=reg_factor)\n",
    "\n",
    "        # print(\"success until there\")\n",
    "        # print(res_schedule)\n",
    "        q_left, process_time_left = split([x[0] for x in res_schedule[0]], res, C, precision)\n",
    "        q_right, process_time_right = split([x[0] for x in res_schedule[1]], res, C, precision)\n",
    "\n",
    "        total_time = process_time + process_time_left + process_time_right\n",
    "        if proba_variables is None:\n",
    "            return q_left + q_right, total_time\n",
    "        else:\n",
    "            #TODO : correct when recursive [0]\n",
    "            return rearrange_queries_probas(q_list, q_left[0], q_right[0], proba_variables), total_time\n",
    "    else:\n",
    "        return [q_list], 0"
   ]
  },
  {
   "cell_type": "code",
   "execution_count": 12,
   "id": "67852fe6-479b-4804-a9ec-f426d15cc009",
   "metadata": {},
   "outputs": [],
   "source": [
    "q_list = [\"q1\", \"q3\", \"q5\", \"q4\",\"q2\", \"q5\", \"q1\",\n",
    "         \"q1\", \"q3\", \"q5\", \"q4\",\"q2\", \"q5\", \"q1\", \"q1\"]\n",
    "\n",
    "res = utils.interpolate(utils.load(q_list, num_partitions='16'))\n",
    "\n",
    "precision = 1000\n",
    "C =16\n",
    "C_ = None # for split\n",
    "Q = len(q_list)\n",
    "R = int(round(Q / 2))\n",
    "# reg_factor = 0.001\n",
    "\n",
    "path_sets_idx = utils.get_path_sets(range(len(q_list)))\n",
    "num_paths = len(path_sets_idx)\n",
    "np.random.seed(0)\n",
    "probas = np.random.random(size=num_paths)\n",
    "probas = list(probas / sum(probas))\n",
    "\n",
    "proba_variables = cp_optimizer.get_proba_variables(q_list, probas)"
   ]
  },
  {
   "cell_type": "code",
   "execution_count": 13,
   "id": "b5d9dae5-7c94-4b74-8fa2-97069ac7c5e9",
   "metadata": {},
   "outputs": [],
   "source": [
    "# normal exec\n",
    "l_n = [0, 1, 2, 3, 4, 6, 7, 9, 10, 13, 14]\n",
    "r_n = [5, 8, 11, 12]\n",
    "\n",
    "\n",
    "# alternative exec\n",
    "l = [0, 1, 2, 4, 5, 6, 9, 12, 13]\n",
    "r = [3, 7, 8, 10, 11, 14]\n"
   ]
  },
  {
   "cell_type": "code",
   "execution_count": 14,
   "id": "45a6f3a6-b183-478d-aa5f-7533b2c1e955",
   "metadata": {},
   "outputs": [
    {
     "name": "stdout",
     "output_type": "stream",
     "text": [
      "                                           0\n",
      "\n",
      "                            1                            2                            \n",
      "\n",
      "                 3                 4                 5                 6                 \n",
      "\n",
      "         7         8         9         10         11         12         13         14         \n",
      "\n",
      "     0.114085   0.148671   0.1253   0.113268   0.088068   0.134266   0.090964   0.185378   \n"
     ]
    }
   ],
   "source": [
    "utils.print_tree(q_list, probas, index=True)"
   ]
  },
  {
   "cell_type": "code",
   "execution_count": 49,
   "id": "def34c32-7bed-4020-8e09-78490e506ea7",
   "metadata": {},
   "outputs": [],
   "source": [
    "def rearrange_queries_probas(q_list, q_left, q_right, proba_variables):\n",
    "    _, _, path_sets_idx = proba_variables\n",
    "    left_queries = set(q_left)\n",
    "    right_queries = set(q_right)\n",
    "    # 1. split paths : determine which belong only to left\n",
    "    left_paths = []\n",
    "    right_paths_raw = []\n",
    "    for p in path_sets_idx:\n",
    "        intersect = p.intersection(right_queries)\n",
    "        if len(intersect) == 0:\n",
    "            left_paths.append(p)\n",
    "        else:\n",
    "            right_paths_raw.append(p)\n",
    "\n",
    "    print(\"paths left\", left_paths)\n",
    "    print(\"paths right\", right_paths_raw)\n",
    "    # 2. select queries appearing only in right paths\n",
    "    remain_queries = left_queries.difference(set.union(*left_paths))\n",
    "    print(\"remain\", remain_queries)\n",
    "    left_queries = left_queries.difference(remain_queries)\n",
    "    print(\"left\", left_queries)\n",
    "    right_queries = right_queries.union(remain_queries)\n",
    "    print(\"right\", right_queries)\n",
    "\n",
    "    # 3. redefine paths right containing queries in left\n",
    "    right_paths = []\n",
    "    for p in right_paths_raw:\n",
    "        new_p = right_queries.intersection(p)\n",
    "        right_paths.append(new_p)\n",
    "\n",
    "    # 4. redefine left and right q_list\n",
    "    # q_list_left = [q_list[i] for i in sorted(left_queries)]\n",
    "    # q_list_right = [q_list[i] for i in sorted(right_queries)]\n",
    "    q_list_left = list(left_queries)\n",
    "    q_list_right = list(right_queries)\n",
    "    \n",
    "    return (q_list_left, left_paths), (q_list_right, right_paths)"
   ]
  },
  {
   "cell_type": "code",
   "execution_count": 50,
   "id": "472b6ca7-0c27-4df9-a95e-702b9adbbec2",
   "metadata": {},
   "outputs": [],
   "source": [
    "# alternative exec\n",
    "l_a = [0, 1, 2, 3, 5, 6, 8, 12, 14]\n",
    "r_a = [4, 7, 9, 10, 11, 13]\n",
    "\n",
    "#normal exec\n",
    "# l_n = [0, 1, 2, 3, 4, 6, 7, 9, 10, 13, 14]\n",
    "# r_n = [5, 8, 11, 12]"
   ]
  },
  {
   "cell_type": "code",
   "execution_count": 51,
   "id": "e41af1c5-b557-468c-8db4-501450daf166",
   "metadata": {},
   "outputs": [
    {
     "name": "stdout",
     "output_type": "stream",
     "text": [
      "paths left [{0, 1, 3, 8}, {0, 2, 12, 5}, {0, 2, 6, 14}]\n",
      "paths right [{0, 1, 3, 7}, {0, 1, 4, 9}, {0, 1, 10, 4}, {0, 2, 11, 5}, {0, 2, 13, 6}]\n",
      "remain set()\n",
      "left {0, 1, 2, 3, 5, 6, 8, 12, 14}\n",
      "right {4, 7, 9, 10, 11, 13}\n"
     ]
    },
    {
     "data": {
      "text/plain": [
       "(([0, 1, 2, 3, 5, 6, 8, 12, 14], [{0, 1, 3, 8}, {0, 2, 5, 12}, {0, 2, 6, 14}]),\n",
       " ([4, 7, 9, 10, 11, 13], [{7}, {4, 9}, {4, 10}, {11}, {13}]))"
      ]
     },
     "execution_count": 51,
     "metadata": {},
     "output_type": "execute_result"
    }
   ],
   "source": [
    "rearrange_queries_probas(q_list, l_a, r_a, proba_variables)"
   ]
  },
  {
   "cell_type": "code",
   "execution_count": 18,
   "id": "0cf9781a-8cea-4d8b-a20a-81901fd5e4a2",
   "metadata": {},
   "outputs": [],
   "source": [
    "# split(q_list, res, C, precision, proba_variables=None, reg_factor=None)\n",
    "# split(q_list, res, C, precision, proba_variables=proba_variables, reg_factor=None, normal_exec=True)"
   ]
  },
  {
   "cell_type": "code",
   "execution_count": null,
   "id": "26613857-25dc-46e0-83f0-ddf35a86cec3",
   "metadata": {},
   "outputs": [],
   "source": [
    "\n"
   ]
  },
  {
   "cell_type": "code",
   "execution_count": null,
   "id": "4be0ea12-b6bf-4aaf-af2a-247f923789d4",
   "metadata": {},
   "outputs": [],
   "source": []
  }
 ],
 "metadata": {
  "kernelspec": {
   "display_name": "Python 3 (ipykernel)",
   "language": "python",
   "name": "python3"
  },
  "language_info": {
   "codemirror_mode": {
    "name": "ipython",
    "version": 3
   },
   "file_extension": ".py",
   "mimetype": "text/x-python",
   "name": "python",
   "nbconvert_exporter": "python",
   "pygments_lexer": "ipython3",
   "version": "3.9.7"
  }
 },
 "nbformat": 4,
 "nbformat_minor": 5
}
