{
 "cells": [
  {
   "cell_type": "code",
   "execution_count": null,
   "id": "37a476d3-f7ac-428d-a7bc-fb0f0d9d9b74",
   "metadata": {},
   "outputs": [],
   "source": [
    "import matplotlib.pyplot as plt\n",
    "import numpy as np\n",
    "import pandas as pd\n",
    "import os\n",
    "import pathlib as plib\n",
    "import sys\n",
    "import time\n",
    "import utils\n",
    "import cp_optimizer\n",
    "import math\n",
    "\n",
    "from ortools.sat.python import cp_model"
   ]
  }
 ],
 "metadata": {
  "kernelspec": {
   "display_name": "Python 3 (ipykernel)",
   "language": "python",
   "name": "python3"
  },
  "language_info": {
   "codemirror_mode": {
    "name": "ipython",
    "version": 3
   },
   "file_extension": ".py",
   "mimetype": "text/x-python",
   "name": "python",
   "nbconvert_exporter": "python",
   "pygments_lexer": "ipython3",
   "version": "3.9.7"
  }
 },
 "nbformat": 4,
 "nbformat_minor": 5
}
