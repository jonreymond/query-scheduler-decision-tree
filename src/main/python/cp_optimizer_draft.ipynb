{
 "cells": [
  {
   "cell_type": "code",
   "execution_count": 1,
   "id": "6c4875d8-5601-4480-b544-57aadd1eb5ed",
   "metadata": {},
   "outputs": [],
   "source": [
    "import matplotlib.pyplot as plt\n",
    "import numpy as np\n",
    "import pandas as pd\n",
    "import os\n",
    "import pathlib as plib\n",
    "import sys\n",
    "import time\n",
    "import utils\n",
    "import cp_optimizer\n",
    "import math\n",
    "\n",
    "from ortools.sat.python import cp_model"
   ]
  },
  {
   "cell_type": "code",
   "execution_count": 2,
   "id": "e203829b-5356-41ef-91a3-11bd8471af5f",
   "metadata": {},
   "outputs": [],
   "source": [
    "q_list = [\"q1\", \"q3\", \"q2\", \"q4\",\"q2\", \"q5\", \"q6\"]\n",
    "df_queries = utils.load(q_list, num_partitions='16')\n",
    "res = utils.interpolate(df_queries)\n",
    "precision = 10\n",
    "C =16\n",
    "C_ = None # for split\n",
    "Q = len(q_list)\n",
    "R = int(round(Q / 2))\n",
    "T = cp_optimizer.init_matrix(q_list, res, C, precision)"
   ]
  },
  {
   "cell_type": "code",
   "execution_count": 3,
   "id": "6584fc0e-26f1-4fa9-b775-de1fc2ef5338",
   "metadata": {},
   "outputs": [],
   "source": [
    "def print_tree(q_list, probas):\n",
    "    height = int(math.log2(len(q_list)))\n",
    "    \n",
    "    proba_str = \"\"\n",
    "    for p in probas:\n",
    "        proba_str += str(round(p, 6)) + \"   \"\n",
    "    l = len(proba_str)\n",
    "    print(\" \"*int(l/2) + q_list[0] + \"\\n\")\n",
    "    \n",
    "    for i in range(height):\n",
    "        blank = \" \"*int(l/(2**(i + 1) + 1))\n",
    "        s = blank\n",
    "        for j in range(2**i):\n",
    "            idx_left = 2**(i + 1) + j*2 - 1\n",
    "            s += q_list[idx_left] + blank\n",
    "            s += q_list[idx_left + 1] + blank\n",
    "        print(s + \"\\n\")\n",
    "    \n",
    "    print(\" \"*int(l/(2**(i + 2) + 1)) + proba_str)\n",
    "            "
   ]
  },
  {
   "cell_type": "code",
   "execution_count": 12,
   "id": "68c37998-f687-4f8b-80ec-dc507ea74885",
   "metadata": {},
   "outputs": [
    {
     "data": {
      "text/plain": [
       "[{0, 1, 3}, {0, 1, 4}, {0, 2, 5}, {0, 2, 6}]"
      ]
     },
     "execution_count": 12,
     "metadata": {},
     "output_type": "execute_result"
    }
   ],
   "source": [
    "\n",
    "path_sets_idx = utils.get_path_sets(range(len(q_list)))\n",
    "num_paths = len(path_sets_idx)\n",
    "probas = np.random.random(size=num_paths)\n",
    "probas = list(probas / sum(probas))\n",
    "path_sets_idx"
   ]
  },
  {
   "cell_type": "code",
   "execution_count": 17,
   "id": "63d6bb74-8edb-4e39-91de-0023017f6b06",
   "metadata": {},
   "outputs": [
    {
     "name": "stdout",
     "output_type": "stream",
     "text": [
      "                      q1\n",
      "\n",
      "              q3              q2              \n",
      "\n",
      "        q4        q2        q5        q6        \n",
      "\n",
      "    0.102468   0.131018   0.436783   0.329732   \n"
     ]
    }
   ],
   "source": [
    "print_tree(q_list, probas)"
   ]
  },
  {
   "cell_type": "code",
   "execution_count": 10,
   "id": "b021dbf7-83fd-49f0-a85c-fba54f51c390",
   "metadata": {},
   "outputs": [],
   "source": [
    "#Define program\n",
    "model = cp_model.CpModel()\n",
    "#Init Variable\n",
    "V = {(q, r): model.NewIntVar(0, C, f'V_{q},{r}') for q in range(Q) for r in range(R)}\n",
    "\n",
    "\n",
    "I = {(q, r): model.NewIntVar(0, R - 1, f'I_{q},{r}') for q in range(Q) for r in range(R)}\n",
    "X = {q: model.NewIntVar(1, C, f'X_{q}') for q in range(Q)}\n",
    "k = {r: model.NewIntVar(0, T.max(), f'k_{r}') for r in range(R)}\n",
    "t_ind = {(q, r): model.NewIntVar(0, T.max(), f't_ind_{q},{r}') for q in range(Q) for r in range(R)}\n",
    "\n",
    "A = np.zeros((Q, R)).astype(int).astype(object)\n",
    "for q in range(Q):\n",
    "    A[q, -1] = X[q]\n",
    "#V, I, X, k, t_ind, A\n",
    "\n",
    "#for probability approach\n",
    "V_bool = {(q, r): model.NewBoolVar(f'V_bool_{q},{r}') for q in range(Q) for r in range(R)}\n",
    "index_run = {q: model.NewIntVar(0, R - 1, f'index_run_{q}') for q in range(Q)}\n",
    "#TODO :check if can reduce range\n",
    "runtime_runs = {r: model.NewIntVar(T.min() * Q, T.max() * Q, f'run_r_{r}') for r in range(R)}\n",
    "\n",
    "runtime_queries = {q: model.NewIntVar(T.min() * Q, T.max() * Q, f'run_q_{q}') for q in range(Q)}\n",
    "runtime_paths = {p: model.NewIntVar(T.min() * Q, T.max() * Q, f'run_path_{q}') for p in range(num_paths)}"
   ]
  },
  {
   "cell_type": "code",
   "execution_count": 26,
   "id": "f89f69e8-e587-4e63-8c7f-8ca9e05c1e2a",
   "metadata": {},
   "outputs": [],
   "source": [
    "#Define program\n",
    "# 1\n",
    "for q in range(Q):\n",
    "    for r in range(R):\n",
    "        model.AddElement(I[q, r], list(A[q, :]), V[q, r])\n",
    "    model.AddAllDifferent([I[q, r] for r in range(R)])\n",
    "# 2\n",
    "for r in range(R):\n",
    "    if C_ is None:\n",
    "        model.Add(sum(V[q, r] for q in range(Q)) <= C)\n",
    "    else:\n",
    "        model.Add(sum(V[q, r] for q in range(Q)) == C_)\n",
    "# 3\n",
    "for q in range(Q):\n",
    "    for r in range(R):\n",
    "        model.AddElement(V[q, r], list(T[q, :]), t_ind[q, r])\n",
    "for r in range(R):\n",
    "    model.AddMaxEquality(k[r], [t_ind[q, r] for q in range(Q)])\n",
    "\n",
    "if probas is None:\n",
    "    obj = sum(k[r] for r in range(R))\n",
    "else :\n",
    "    #Get index of which run each query is\n",
    "    for q in range(Q):\n",
    "        for r in range(R):\n",
    "            model.Add(V[q,r] > 0).OnlyEnforceIf(V_bool[q,r])\n",
    "            model.Add(V[q,r] == 0).OnlyEnforceIf(V_bool[q,r].Not())\n",
    "\n",
    "    for q in range(Q):\n",
    "        model.Add(index_run[q]==0).OnlyEnforceIf([V_bool[q,r].Not() for r in range(R)]) \n",
    "        for r in range(R):\n",
    "            model.Add(index_run[q]== r).OnlyEnforceIf(V_bool[q,r]) \n",
    "            \n",
    "    #Get runtime of each run\n",
    "    for r in range(R):\n",
    "        model.Add(runtime_runs[r] == sum(k[rr] for rr in range(r + 1)))\n",
    "        \n",
    "    #Get runtime of each query\n",
    "    for q in range(Q):\n",
    "        model.AddElement(index_run[q], runtime_runs, runtime_queries[q])\n",
    "    #Set path runtime\n",
    "    for (id_p, path_set) in enumerate(path_sets_idx):\n",
    "        model.AddMaxEquality(runtime_paths[id_p], [runtime_queries[q] for q in path_set])\n",
    "        \n",
    "    obj = sum(probas[p] * runtime_paths[p] for p in range(num_paths)) +  0.01 *sum(k[r] for r in range(R))\n",
    "\n",
    "model.Minimize(obj)"
   ]
  },
  {
   "cell_type": "code",
   "execution_count": 27,
   "id": "6b47fe66-4507-459d-8ed9-cebc1d9990f9",
   "metadata": {},
   "outputs": [
    {
     "name": "stdout",
     "output_type": "stream",
     "text": [
      "4\n"
     ]
    },
    {
     "data": {
      "text/plain": [
       "(0.5426781177520752,\n",
       " 42.6,\n",
       " [[('q1', 2), ('q2', 2), ('q5', 4), ('q6', 8)],\n",
       "  [('q3', 8), ('q4', 4), ('q2', 4)]])"
      ]
     },
     "execution_count": 27,
     "metadata": {},
     "output_type": "execute_result"
    }
   ],
   "source": [
    "start_time = time.time()\n",
    "solver = cp_model.CpSolver()\n",
    "status = solver.Solve(model)\n",
    "process_time = time.time() - start_time\n",
    "print(status)\n",
    "if status == cp_model.OPTIMAL or status == cp_model.FEASIBLE:\n",
    "    # (V, _, _, k, _, _) = variables\n",
    "    runtime, res_schedule = cp_optimizer.model_to_solution(solver, R, V, k, q_list, precision)\n",
    "else:\n",
    "    runtime, res_schedule = -1, []\n",
    "\n",
    "process_time, runtime, res_schedule"
   ]
  },
  {
   "cell_type": "markdown",
   "id": "b604fe18-9e68-4501-8173-6ce340e63a37",
   "metadata": {},
   "source": [
    "## Sample test"
   ]
  },
  {
   "cell_type": "code",
   "execution_count": null,
   "id": "f210aa08-3e7a-4ffe-82a5-c36d2aa00d58",
   "metadata": {},
   "outputs": [],
   "source": [
    "[cp_model.UNKNOWN, cp_model.MODEL_INVALID,cp_model.FEASIBLE, cp_model.INFEASIBLE , cp_model.OPTIMAL]"
   ]
  },
  {
   "cell_type": "code",
   "execution_count": null,
   "id": "1aad02b3-4f15-4448-857d-1d92e3357796",
   "metadata": {},
   "outputs": [],
   "source": [
    "model = cp_model.CpModel()\n",
    "solver = cp_model.CpSolver()\n",
    "R = 7\n",
    "Q = 6\n",
    "V = {(q, r): model.NewIntVar(0, C, f'V_{q},{r}') for q in range(Q) for r in range(R)}\n",
    "V_bool = {(q, r): model.NewBoolVar(f'V_bool_{q},{r}') for q in range(Q) for r in range(R)}\n",
    "index_run = {q: model.NewIntVar(0, R - 1, f'index_run_{q}') for q in range(Q)}\n",
    "\n",
    "\n",
    "for q in range(Q):\n",
    "    for r in range(R):\n",
    "        model.Add(V[q,r] > 0).OnlyEnforceIf(V_bool[q,r])\n",
    "        model.Add(V[q,r] == 0).OnlyEnforceIf(V_bool[q,r].Not())\n",
    "\n",
    "for q in range(Q):\n",
    "    model.Add(index_run[q]==0).OnlyEnforceIf([V_bool[q,r].Not() for r in range(R)]) \n",
    "    for r in range(R):\n",
    "        model.Add(index_run[q]== r).OnlyEnforceIf(V_bool[q,r]) "
   ]
  },
  {
   "cell_type": "code",
   "execution_count": null,
   "id": "56d112c2-2f7e-4d46-a434-d89e6f328a53",
   "metadata": {},
   "outputs": [],
   "source": []
  },
  {
   "cell_type": "code",
   "execution_count": null,
   "id": "90e30290-eaae-4714-9319-ee27171e9d95",
   "metadata": {},
   "outputs": [],
   "source": []
  }
 ],
 "metadata": {
  "kernelspec": {
   "display_name": "Python 3 (ipykernel)",
   "language": "python",
   "name": "python3"
  },
  "language_info": {
   "codemirror_mode": {
    "name": "ipython",
    "version": 3
   },
   "file_extension": ".py",
   "mimetype": "text/x-python",
   "name": "python",
   "nbconvert_exporter": "python",
   "pygments_lexer": "ipython3",
   "version": "3.9.7"
  }
 },
 "nbformat": 4,
 "nbformat_minor": 5
}
