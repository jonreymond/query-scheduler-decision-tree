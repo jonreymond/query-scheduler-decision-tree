{
 "cells": [
  {
   "cell_type": "code",
   "execution_count": 16,
   "id": "6c4875d8-5601-4480-b544-57aadd1eb5ed",
   "metadata": {},
   "outputs": [],
   "source": [
    "import matplotlib.pyplot as plt\n",
    "import numpy as np\n",
    "import pandas as pd\n",
    "import os\n",
    "import pathlib as plib\n",
    "import sys\n",
    "import time\n",
    "import utils\n",
    "import cp_optimizer\n",
    "import math\n",
    "\n",
    "from ortools.sat.python import cp_model"
   ]
  },
  {
   "cell_type": "code",
   "execution_count": 2,
   "id": "e203829b-5356-41ef-91a3-11bd8471af5f",
   "metadata": {},
   "outputs": [],
   "source": [
    "q_list = [\"q1\", \"q3\", \"q2\", \"q4\",\"q2\", \"q5\", \"q6\"]\n",
    "df_queries = utils.load(q_list, num_partitions='16')\n",
    "res = utils.interpolate(df_queries)\n",
    "precision = 10\n",
    "C =16\n",
    "C_ = None # for split\n",
    "Q = len(q_list)\n",
    "R = int(round(Q / 2))\n",
    "T = cp_optimizer.init_matrix(q_list, res, C, precision)\n",
    "probas = None#int(probas * 10000)"
   ]
  },
  {
   "cell_type": "code",
   "execution_count": 9,
   "id": "b021dbf7-83fd-49f0-a85c-fba54f51c390",
   "metadata": {},
   "outputs": [],
   "source": [
    "#Define program\n",
    "model = cp_model.CpModel()\n",
    "#Init Variable\n",
    "V = {(q, r): model.NewIntVar(0, C, f'V_{q},{r}') for q in range(Q) for r in range(R)}\n",
    "\n",
    "\n",
    "I = {(q, r): model.NewIntVar(0, R - 1, f'I_{q},{r}') for q in range(Q) for r in range(R)}\n",
    "X = {q: model.NewIntVar(1, C, f'X_{q}') for q in range(Q)}\n",
    "k = {r: model.NewIntVar(0, T.max(), f'k_{r}') for r in range(R)}\n",
    "t_ind = {(q, r): model.NewIntVar(0, T.max(), f't_ind_{q},{r}') for q in range(Q) for r in range(R)}\n",
    "\n",
    "A = np.zeros((Q, R)).astype(int).astype(object)\n",
    "for q in range(Q):\n",
    "    A[q, -1] = X[q]\n",
    "#V, I, X, k, t_ind, A\n",
    "\n",
    "#for probability approach\n",
    "V_bool = {(q, r): model.NewBoolVar(f'V_bool_{q},{r}') for q in range(Q) for r in range(R)}\n",
    "index_run = {q: model.NewIntVar(0, R - 1, f'index_run_{q}') for q in range(Q)}\n",
    "#TODO :check if can reduce range\n",
    "runtime_queries = {q: model.NewIntVar(T.min() * Q, T.max() * Q, f'run_q_{q}') for q in range(Q)}"
   ]
  },
  {
   "cell_type": "code",
   "execution_count": 65,
   "id": "b6a92c67-7211-47c6-89f0-db6568c5ce02",
   "metadata": {},
   "outputs": [],
   "source": [
    "def get_path_sets(q_list):\n",
    "    results = []\n",
    "\n",
    "    results.append(set([q_list[0]]))\n",
    "    height = int(math.log2(len(q_list)))\n",
    "\n",
    "    for i in range(height):\n",
    "        for j in range(2**i):\n",
    "            idx_parent = int(j + 2**i - 1)\n",
    "            parent_set = results[idx_parent]\n",
    "            \n",
    "            idx_left = 2**(i + 1) + j*2 - 1\n",
    "            left_set = parent_set.copy()\n",
    "            left_set.add(q_list[idx_left])\n",
    "            results.append(left_set)\n",
    "            \n",
    "            right_set = parent_set.copy()\n",
    "            right_set.add(q_list[idx_left + 1])\n",
    "            results.append(right_set)\n",
    "\n",
    "    return results[2**(height)-1:]"
   ]
  },
  {
   "cell_type": "code",
   "execution_count": 4,
   "id": "f89f69e8-e587-4e63-8c7f-8ca9e05c1e2a",
   "metadata": {},
   "outputs": [],
   "source": [
    "#Define program\n",
    "# 1\n",
    "for q in range(Q):\n",
    "    for r in range(R):\n",
    "        model.AddElement(I[q, r], list(A[q, :]), V[q, r])\n",
    "    model.AddAllDifferent([I[q, r] for r in range(R)])\n",
    "# 2\n",
    "for r in range(R):\n",
    "    if C_ is None:\n",
    "        model.Add(sum(V[q, r] for q in range(Q)) <= C)\n",
    "    else:\n",
    "        model.Add(sum(V[q, r] for q in range(Q)) == C_)\n",
    "# 3\n",
    "for q in range(Q):\n",
    "    for r in range(R):\n",
    "        model.AddElement(V[q, r], list(T[q, :]), t_ind[q, r])\n",
    "for r in range(R):\n",
    "    model.AddMaxEquality(k[r], [t_ind[q, r] for q in range(Q)])\n",
    "\n",
    "if probas is None:\n",
    "    obj = sum(k[r] for r in range(R))\n",
    "else :\n",
    "    #Get index of which run each query is\n",
    "    for q in range(Q):\n",
    "        for r in range(R):\n",
    "            model.Add(V[q,r] > 0).OnlyEnforceIf(V_bool[q,r])\n",
    "            model.Add(V[q,r] == 0).OnlyEnforceIf(V_bool[q,r].Not())\n",
    "\n",
    "    for q in range(Q):\n",
    "        model.Add(index_run[q]==0).OnlyEnforceIf([V_bool[q,r].Not() for r in range(R)]) \n",
    "        for r in range(R):\n",
    "            model.Add(index_run[q]== r).OnlyEnforceIf(V_bool[q,r]) \n",
    "            \n",
    "    #Get runtime of each query\n",
    "    for q in range(Q):\n",
    "        model.Add(runtime_queries[q] == sum(k[r] for r in range(index_run[q] + 1)))\n",
    "    #TODO : implement\n",
    "    # method to define paths\n",
    "    obj = None\n",
    "\n",
    "model.Minimize(obj)"
   ]
  },
  {
   "cell_type": "code",
   "execution_count": 5,
   "id": "6b47fe66-4507-459d-8ed9-cebc1d9990f9",
   "metadata": {},
   "outputs": [
    {
     "data": {
      "text/plain": [
       "(1.0365498065948486,\n",
       " 39.9,\n",
       " [[('q1', 7), ('q4', 9)],\n",
       "  [('q2', 8), ('q2', 8)],\n",
       "  [('q3', 4), ('q5', 4), ('q6', 8)]])"
      ]
     },
     "execution_count": 5,
     "metadata": {},
     "output_type": "execute_result"
    }
   ],
   "source": [
    "start_time = time.time()\n",
    "solver = cp_model.CpSolver()\n",
    "status = solver.Solve(model)\n",
    "process_time = time.time() - start_time\n",
    "\n",
    "if status == cp_model.OPTIMAL or status == cp_model.FEASIBLE:\n",
    "    # (V, _, _, k, _, _) = variables\n",
    "    runtime, res_schedule = cp_optimizer.model_to_solution(solver, R, V, k, q_list, precision)\n",
    "else:\n",
    "    runtime, res_schedule = -1, []\n",
    "\n",
    "process_time, runtime, res_schedule"
   ]
  },
  {
   "cell_type": "markdown",
   "id": "b604fe18-9e68-4501-8173-6ce340e63a37",
   "metadata": {},
   "source": [
    "## Sample test"
   ]
  },
  {
   "cell_type": "code",
   "execution_count": 6,
   "id": "f210aa08-3e7a-4ffe-82a5-c36d2aa00d58",
   "metadata": {},
   "outputs": [
    {
     "data": {
      "text/plain": [
       "[0, 1, 2, 3, 4]"
      ]
     },
     "execution_count": 6,
     "metadata": {},
     "output_type": "execute_result"
    }
   ],
   "source": [
    "[cp_model.UNKNOWN, cp_model.MODEL_INVALID,cp_model.FEASIBLE, cp_model.INFEASIBLE , cp_model.OPTIMAL]"
   ]
  },
  {
   "cell_type": "code",
   "execution_count": 7,
   "id": "1aad02b3-4f15-4448-857d-1d92e3357796",
   "metadata": {},
   "outputs": [],
   "source": [
    "model = cp_model.CpModel()\n",
    "solver = cp_model.CpSolver()\n",
    "R = 7\n",
    "Q = 6\n",
    "V = {(q, r): model.NewIntVar(0, C, f'V_{q},{r}') for q in range(Q) for r in range(R)}\n",
    "V_bool = {(q, r): model.NewBoolVar(f'V_bool_{q},{r}') for q in range(Q) for r in range(R)}\n",
    "index_run = {q: model.NewIntVar(0, R - 1, f'index_run_{q}') for q in range(Q)}\n",
    "\n",
    "\n",
    "for q in range(Q):\n",
    "    for r in range(R):\n",
    "        model.Add(V[q,r] > 0).OnlyEnforceIf(V_bool[q,r])\n",
    "        model.Add(V[q,r] == 0).OnlyEnforceIf(V_bool[q,r].Not())\n",
    "\n",
    "for q in range(Q):\n",
    "    model.Add(index_run[q]==0).OnlyEnforceIf([V_bool[q,r].Not() for r in range(R)]) \n",
    "    for r in range(R):\n",
    "        model.Add(index_run[q]== r).OnlyEnforceIf(V_bool[q,r]) "
   ]
  },
  {
   "cell_type": "code",
   "execution_count": null,
   "id": "56d112c2-2f7e-4d46-a434-d89e6f328a53",
   "metadata": {},
   "outputs": [],
   "source": []
  },
  {
   "cell_type": "code",
   "execution_count": null,
   "id": "90e30290-eaae-4714-9319-ee27171e9d95",
   "metadata": {},
   "outputs": [],
   "source": []
  }
 ],
 "metadata": {
  "kernelspec": {
   "display_name": "Python 3 (ipykernel)",
   "language": "python",
   "name": "python3"
  },
  "language_info": {
   "codemirror_mode": {
    "name": "ipython",
    "version": 3
   },
   "file_extension": ".py",
   "mimetype": "text/x-python",
   "name": "python",
   "nbconvert_exporter": "python",
   "pygments_lexer": "ipython3",
   "version": "3.9.7"
  }
 },
 "nbformat": 4,
 "nbformat_minor": 5
}
