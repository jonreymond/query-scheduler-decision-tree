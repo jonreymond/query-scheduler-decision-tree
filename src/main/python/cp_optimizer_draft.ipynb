{
 "cells": [
  {
   "cell_type": "code",
   "execution_count": 1,
   "id": "6c4875d8-5601-4480-b544-57aadd1eb5ed",
   "metadata": {},
   "outputs": [],
   "source": [
    "import matplotlib.pyplot as plt\n",
    "import numpy as np\n",
    "import pandas as pd\n",
    "import os\n",
    "import pathlib as plib\n",
    "import sys\n",
    "import time\n",
    "import utils\n",
    "import cp_optimizer\n",
    "import math\n",
    "\n",
    "from ortools.sat.python import cp_model"
   ]
  },
  {
   "cell_type": "code",
   "execution_count": 43,
   "id": "e203829b-5356-41ef-91a3-11bd8471af5f",
   "metadata": {},
   "outputs": [],
   "source": [
    "q_list = [\"q1\", \"q3\", \"q2\", \"q4\",\"q2\", \"q5\", \"q6\"]\n",
    "df_queries = utils.load(q_list, num_partitions='16')\n",
    "res = utils.interpolate(df_queries)\n",
    "precision = 1000\n",
    "C =16\n",
    "C_ = None # for split\n",
    "Q = len(q_list)\n",
    "R = int(round(Q / 2))\n",
    "T = cp_optimizer.init_matrix(q_list, res, C, precision)\n",
    "reg_factor = 0.001\n",
    "T_arr = np.array(T)\n",
    "T_min = np.min(T_arr[np.nonzero(T_arr)])\n",
    "T_min = 0"
   ]
  },
  {
   "cell_type": "code",
   "execution_count": null,
   "id": "2004976c-3d4f-4315-b8e7-6b58dfdcb865",
   "metadata": {},
   "outputs": [],
   "source": []
  },
  {
   "cell_type": "code",
   "execution_count": 44,
   "id": "6584fc0e-26f1-4fa9-b775-de1fc2ef5338",
   "metadata": {},
   "outputs": [],
   "source": [
    "def print_tree(q_list, probas):\n",
    "    height = int(math.log2(len(q_list)))\n",
    "    \n",
    "    proba_str = \"\"\n",
    "    for p in probas:\n",
    "        proba_str += str(round(p, 6)) + \"   \"\n",
    "    l = len(proba_str)\n",
    "    print(\" \"*int(l/2) + q_list[0] + \"\\n\")\n",
    "    \n",
    "    for i in range(height):\n",
    "        blank = \" \"*int(l/(2**(i + 1) + 1))\n",
    "        s = blank\n",
    "        for j in range(2**i):\n",
    "            idx_left = 2**(i + 1) + j*2 - 1\n",
    "            s += q_list[idx_left] + blank\n",
    "            s += q_list[idx_left + 1] + blank\n",
    "        print(s + \"\\n\")\n",
    "    \n",
    "    print(\" \"*int(l/(2**(i + 2) + 1)) + proba_str)\n",
    "            "
   ]
  },
  {
   "cell_type": "code",
   "execution_count": 45,
   "id": "68c37998-f687-4f8b-80ec-dc507ea74885",
   "metadata": {},
   "outputs": [
    {
     "data": {
      "text/plain": [
       "[{0, 1, 3}, {0, 1, 4}, {0, 2, 5}, {0, 2, 6}]"
      ]
     },
     "execution_count": 45,
     "metadata": {},
     "output_type": "execute_result"
    }
   ],
   "source": [
    "\n",
    "path_sets_idx = utils.get_path_sets(range(len(q_list)))\n",
    "num_paths = len(path_sets_idx)\n",
    "probas = np.random.random(size=num_paths)\n",
    "probas = list(probas / sum(probas))\n",
    "path_sets_idx"
   ]
  },
  {
   "cell_type": "code",
   "execution_count": 46,
   "id": "63d6bb74-8edb-4e39-91de-0023017f6b06",
   "metadata": {},
   "outputs": [
    {
     "name": "stdout",
     "output_type": "stream",
     "text": [
      "                      q1\n",
      "\n",
      "              q3              q2              \n",
      "\n",
      "        q4        q2        q5        q6        \n",
      "\n",
      "    0.524541   0.257837   0.038343   0.179279   \n"
     ]
    }
   ],
   "source": [
    "print_tree(q_list, probas)"
   ]
  },
  {
   "cell_type": "markdown",
   "id": "6c7cd42a-ad44-430d-abe1-43cb9ea58021",
   "metadata": {
    "tags": []
   },
   "source": [
    "## 1st formulation"
   ]
  },
  {
   "cell_type": "code",
   "execution_count": 47,
   "id": "b021dbf7-83fd-49f0-a85c-fba54f51c390",
   "metadata": {},
   "outputs": [],
   "source": [
    "#Define program\n",
    "model = cp_model.CpModel()\n",
    "#Init Variable\n",
    "V = {(q, r): model.NewIntVar(0, C, f'V_{q},{r}') for q in range(Q) for r in range(R)}\n",
    "\n",
    "\n",
    "I = {(q, r): model.NewIntVar(0, R - 1, f'I_{q},{r}') for q in range(Q) for r in range(R)}\n",
    "X = {q: model.NewIntVar(1, C, f'X_{q}') for q in range(Q)}\n",
    "k = {r: model.NewIntVar(0, T.max(), f'k_{r}') for r in range(R)}\n",
    "t_ind = {(q, r): model.NewIntVar(0, T.max(), f't_ind_{q},{r}') for q in range(Q) for r in range(R)}\n",
    "\n",
    "A = np.zeros((Q, R)).astype(int).astype(object)\n",
    "for q in range(Q):\n",
    "    A[q, -1] = X[q]\n",
    "#V, I, X, k, t_ind, A\n",
    "\n",
    "#for probability approach\n",
    "V_bool = {(q, r): model.NewBoolVar(f'V_bool_{q},{r}') for q in range(Q) for r in range(R)}\n",
    "index_run = {q: model.NewIntVar(0, R - 1, f'index_run_{q}') for q in range(Q)}\n",
    "#TODO :check if can reduce range\n",
    "runtime_runs = {r: model.NewIntVar(T_min, T.max() * Q, f'run_r_{r}') for r in range(R)}\n",
    "\n",
    "runtime_queries = {q: model.NewIntVar(T_min, T.max() * Q, f'run_q_{q}') for q in range(Q)}\n",
    "runtime_paths = {p: model.NewIntVar(T_min, T.max() * Q, f'run_path_{q}') for p in range(num_paths)}"
   ]
  },
  {
   "cell_type": "code",
   "execution_count": 48,
   "id": "f89f69e8-e587-4e63-8c7f-8ca9e05c1e2a",
   "metadata": {},
   "outputs": [],
   "source": [
    "#Define program\n",
    "# 1\n",
    "for q in range(Q):\n",
    "    for r in range(R):\n",
    "        model.AddElement(I[q, r], list(A[q, :]), V[q, r])\n",
    "    model.AddAllDifferent([I[q, r] for r in range(R)])\n",
    "# 2\n",
    "for r in range(R):\n",
    "    if C_ is None:\n",
    "        model.Add(sum(V[q, r] for q in range(Q)) <= C)\n",
    "    else:\n",
    "        model.Add(sum(V[q, r] for q in range(Q)) == C_)\n",
    "# 3\n",
    "for q in range(Q):\n",
    "    for r in range(R):\n",
    "        model.AddElement(V[q, r], list(T[q, :]), t_ind[q, r])\n",
    "for r in range(R):\n",
    "    model.AddMaxEquality(k[r], [t_ind[q, r] for q in range(Q)])\n",
    "\n",
    "if probas is None:\n",
    "    obj = sum(k[r] for r in range(R))\n",
    "else :\n",
    "    #Get index of which run each query is\n",
    "    for q in range(Q):\n",
    "        for r in range(R):\n",
    "            model.Add(V[q,r] > 0).OnlyEnforceIf(V_bool[q,r])\n",
    "            model.Add(V[q,r] == 0).OnlyEnforceIf(V_bool[q,r].Not())\n",
    "\n",
    "    for q in range(Q):\n",
    "        model.Add(index_run[q]==0).OnlyEnforceIf([V_bool[q,r].Not() for r in range(R)]) \n",
    "        for r in range(R):\n",
    "            model.Add(index_run[q]== r).OnlyEnforceIf(V_bool[q,r]) \n",
    "            \n",
    "    #Get runtime of each run\n",
    "    for r in range(R):\n",
    "        model.Add(runtime_runs[r] == sum(k[rr] for rr in range(r + 1)))\n",
    "        \n",
    "    #Get runtime of each query\n",
    "    for q in range(Q):\n",
    "        model.AddElement(index_run[q], runtime_runs, runtime_queries[q])\n",
    "    #Set path runtime\n",
    "    for (id_p, path_set) in enumerate(path_sets_idx):\n",
    "        model.AddMaxEquality(runtime_paths[id_p], [runtime_queries[q] for q in path_set])\n",
    "        \n",
    "    obj = sum(probas[p] * runtime_paths[p] for p in range(num_paths)) +  reg_factor *sum(k[r] for r in range(R))\n",
    "\n",
    "model.Minimize(obj)"
   ]
  },
  {
   "cell_type": "code",
   "execution_count": 49,
   "id": "6b47fe66-4507-459d-8ed9-cebc1d9990f9",
   "metadata": {},
   "outputs": [
    {
     "name": "stdout",
     "output_type": "stream",
     "text": [
      "OPTIMAL\n"
     ]
    },
    {
     "data": {
      "text/plain": [
       "(1.0899319648742676,\n",
       " 40.029,\n",
       " [[('q1', 2), ('q3', 4), ('q4', 2), ('q6', 8)],\n",
       "  [('q2', 8), ('q2', 8)],\n",
       "  [('q5', 16)]])"
      ]
     },
     "execution_count": 49,
     "metadata": {},
     "output_type": "execute_result"
    }
   ],
   "source": [
    "start_time = time.time()\n",
    "solver = cp_model.CpSolver()\n",
    "status = solver.Solve(model)\n",
    "process_time = time.time() - start_time\n",
    "print(cp_optimizer.MODEL_STATUS[status])\n",
    "if status == cp_model.OPTIMAL or status == cp_model.FEASIBLE:\n",
    "    # (V, _, _, k, _, _) = variables\n",
    "    runtime, res_schedule = cp_optimizer.model_to_solution(solver, R, V, k, q_list, precision)\n",
    "else:\n",
    "    runtime, res_schedule = -1, []\n",
    "\n",
    "process_time, runtime, res_schedule"
   ]
  },
  {
   "cell_type": "code",
   "execution_count": 50,
   "id": "cdedba88-75af-4c3b-a368-c5f43ac200d2",
   "metadata": {},
   "outputs": [],
   "source": [
    "proba_variables = cp_optimizer.get_proba_variables(q_list, probas)\n",
    "process_time, var_results = cp_optimizer.optimize(q_list, res, C, R, precision, proba_variables=proba_variables, reg_factor=reg_factor)"
   ]
  },
  {
   "cell_type": "code",
   "execution_count": 51,
   "id": "babd6127-440e-4110-8569-ce5fdf9103b4",
   "metadata": {},
   "outputs": [
    {
     "data": {
      "text/plain": [
       "(40.029,\n",
       " [[('q1', 2), ('q3', 4), ('q4', 2), ('q6', 8)],\n",
       "  [('q2', 8), ('q2', 8)],\n",
       "  [('q5', 16)]])"
      ]
     },
     "execution_count": 51,
     "metadata": {},
     "output_type": "execute_result"
    }
   ],
   "source": [
    "cp_optimizer.get_program_results(*var_results, True)"
   ]
  },
  {
   "cell_type": "markdown",
   "id": "95fb6be0-7100-4c93-9e67-4a78ed5aa6d6",
   "metadata": {},
   "source": [
    "## Second formulation test"
   ]
  },
  {
   "cell_type": "code",
   "execution_count": 52,
   "id": "c13e7b6b-91d6-4e40-8178-57bb075283d3",
   "metadata": {},
   "outputs": [],
   "source": [
    "#Define program\n",
    "model = cp_model.CpModel()\n",
    "#Init Variable\n",
    "V = {(q, r): model.NewIntVar(0, C, f'V_{q},{r}') for q in range(Q) for r in range(R)}\n",
    "\n",
    "\n",
    "I = {(q, r): model.NewIntVar(0, R - 1, f'I_{q},{r}') for q in range(Q) for r in range(R)}\n",
    "X = {q: model.NewIntVar(1, C, f'X_{q}') for q in range(Q)}\n",
    "k = {r: model.NewIntVar(0, T.max(), f'k_{r}') for r in range(R)}\n",
    "t_ind = {(q, r): model.NewIntVar(0, T.max(), f't_ind_{q},{r}') for q in range(Q) for r in range(R)}\n",
    "\n",
    "A = np.zeros((Q, R)).astype(int).astype(object)\n",
    "for q in range(Q):\n",
    "    A[q, -1] = X[q]\n",
    "#V, I, X, k, t_ind, A\n",
    "\n",
    "#for probability approach\n",
    "V_bool = {(q, r): model.NewBoolVar(f'V_bool_{q},{r}') for q in range(Q) for r in range(R)}\n",
    "index_run_q = {q: model.NewIntVar(0, R - 1, f'index_run_{q}') for q in range(Q)}\n",
    "index_run_path = {p: model.NewIntVar(0, R - 1, f'index_run_{q}') for p in range(num_paths)}\n",
    "#TODO :check if can reduce range\n",
    "runtime_runs = {r: model.NewIntVar(T_min, T.max() * Q, f'run_r_{r}') for r in range(R)}\n",
    "\n",
    "runtime_paths = {p: model.NewIntVar(T_min, T.max() * Q, f'run_path_{q}') for p in range(num_paths)}"
   ]
  },
  {
   "cell_type": "code",
   "execution_count": 53,
   "id": "fa562d35-35ca-4871-bdaf-b3c90bf5e7b1",
   "metadata": {},
   "outputs": [],
   "source": [
    "#Define program\n",
    "# 1\n",
    "for q in range(Q):\n",
    "    for r in range(R):\n",
    "        model.AddElement(I[q, r], list(A[q, :]), V[q, r])\n",
    "    model.AddAllDifferent([I[q, r] for r in range(R)])\n",
    "# 2\n",
    "for r in range(R):\n",
    "    if C_ is None:\n",
    "        model.Add(sum(V[q, r] for q in range(Q)) <= C)\n",
    "    else:\n",
    "        model.Add(sum(V[q, r] for q in range(Q)) == C_)\n",
    "# 3\n",
    "for q in range(Q):\n",
    "    for r in range(R):\n",
    "        model.AddElement(V[q, r], list(T[q, :]), t_ind[q, r])\n",
    "for r in range(R):\n",
    "    model.AddMaxEquality(k[r], [t_ind[q, r] for q in range(Q)])\n",
    "\n",
    "if probas is None:\n",
    "    obj = sum(k[r] for r in range(R))\n",
    "else :\n",
    "    #Get index of which run each query is\n",
    "    for q in range(Q):\n",
    "        for r in range(R):\n",
    "            model.Add(V[q,r] > 0).OnlyEnforceIf(V_bool[q,r])\n",
    "            model.Add(V[q,r] == 0).OnlyEnforceIf(V_bool[q,r].Not())\n",
    "\n",
    "    for q in range(Q):\n",
    "        model.Add(index_run_q[q]==0).OnlyEnforceIf([V_bool[q,r].Not() for r in range(R)]) \n",
    "        for r in range(R):\n",
    "            model.Add(index_run_q[q]== r).OnlyEnforceIf(V_bool[q,r]) \n",
    "            \n",
    "    #Get runtime of each run\n",
    "    for r in range(R):\n",
    "        model.Add(runtime_runs[r] == sum(k[rr] for rr in range(r + 1)))\n",
    "        \n",
    "    #Get index path\n",
    "    for (p, path_set) in enumerate(path_sets_idx):\n",
    "        model.AddMaxEquality(index_run_path[p], [index_run_q[q] for q in path_set])\n",
    "        \n",
    "    #Get runtime path\n",
    "    for p in range(num_paths):\n",
    "        model.AddElement(index_run_path[p], runtime_runs, runtime_paths[p])\n",
    "        \n",
    "    obj = sum(probas[p] * runtime_paths[p] for p in range(num_paths)) +  reg_factor *sum(k[r] for r in range(R))\n",
    "\n",
    "model.Minimize(obj)"
   ]
  },
  {
   "cell_type": "code",
   "execution_count": 54,
   "id": "8c1a848b-7b17-478e-8639-ba7118273caf",
   "metadata": {},
   "outputs": [
    {
     "name": "stdout",
     "output_type": "stream",
     "text": [
      "OPTIMAL\n"
     ]
    },
    {
     "data": {
      "text/plain": [
       "(1.0041992664337158,\n",
       " 40.029,\n",
       " [[('q1', 2), ('q3', 4), ('q4', 2), ('q6', 8)],\n",
       "  [('q2', 8), ('q2', 8)],\n",
       "  [('q5', 16)]])"
      ]
     },
     "execution_count": 54,
     "metadata": {},
     "output_type": "execute_result"
    }
   ],
   "source": [
    "start_time = time.time()\n",
    "solver = cp_model.CpSolver()\n",
    "status = solver.Solve(model)\n",
    "process_time = time.time() - start_time\n",
    "print(cp_optimizer.MODEL_STATUS[status])\n",
    "if status == cp_model.OPTIMAL or status == cp_model.FEASIBLE:\n",
    "    # (V, _, _, k, _, _) = variables\n",
    "    runtime, res_schedule = cp_optimizer.model_to_solution(solver, R, V, k, q_list, precision)\n",
    "else:\n",
    "    runtime, res_schedule = -1, []\n",
    "\n",
    "process_time, runtime, res_schedule"
   ]
  },
  {
   "cell_type": "code",
   "execution_count": 14,
   "id": "6d0b05ee-0aa8-4819-869e-e08852cf4bad",
   "metadata": {},
   "outputs": [
    {
     "data": {
      "text/plain": [
       "[0, 1, 2, 3, 4]"
      ]
     },
     "execution_count": 14,
     "metadata": {},
     "output_type": "execute_result"
    }
   ],
   "source": [
    "[cp_model.UNKNOWN, cp_model.MODEL_INVALID,   cp_model.FEASIBLE, cp_model.INFEASIBLE, cp_model.OPTIMAL]"
   ]
  },
  {
   "cell_type": "code",
   "execution_count": null,
   "id": "a5049220-e930-45b5-bcd5-d45414c8d575",
   "metadata": {},
   "outputs": [],
   "source": []
  },
  {
   "cell_type": "markdown",
   "id": "b604fe18-9e68-4501-8173-6ce340e63a37",
   "metadata": {
    "tags": []
   },
   "source": [
    "## Split proba test"
   ]
  },
  {
   "cell_type": "code",
   "execution_count": 15,
   "id": "2925335e-ccc7-4879-a74b-746bbc92685d",
   "metadata": {},
   "outputs": [
    {
     "name": "stdout",
     "output_type": "stream",
     "text": [
      "                     q1\n",
      "\n",
      "              q3              q2              \n",
      "\n",
      "        q4        q2        q5        q6        \n",
      "\n",
      "    0.23771   0.326808   0.162884   0.272597   \n"
     ]
    }
   ],
   "source": [
    "print_tree(q_list, probas)"
   ]
  },
  {
   "cell_type": "code",
   "execution_count": 16,
   "id": "90e30290-eaae-4714-9319-ee27171e9d95",
   "metadata": {},
   "outputs": [
    {
     "name": "stdout",
     "output_type": "stream",
     "text": [
      "14\n"
     ]
    },
    {
     "data": {
      "text/plain": [
       "(46.923,\n",
       " [[('q1', 2), ('q2', 3), ('q4', 2), ('q2', 3), ('q5', 4)],\n",
       "  [('q3', 4), ('q6', 10)]])"
      ]
     },
     "execution_count": 16,
     "metadata": {},
     "output_type": "execute_result"
    }
   ],
   "source": [
    "proba_var = cp_optimizer.get_proba_variables(q_list, probas)\n",
    "R_ = 2\n",
    "C_ = 2 * len(q_list)\n",
    "print(C_)\n",
    "process_time, var_results = cp_optimizer.optimize(q_list, res, C, R=R_, precision=precision, \n",
    "                                                  C_=C_,\n",
    "                                                  proba_variables=proba_var, reg_factor=0.0003\n",
    "                                                 )\n",
    "cp_optimizer.get_program_results(*var_results, True)"
   ]
  },
  {
   "cell_type": "code",
   "execution_count": 17,
   "id": "ec28024d-93c8-4932-bee0-3e42caa0ce02",
   "metadata": {},
   "outputs": [],
   "source": [
    "\n",
    "probas, num_paths, path_sets_idx = proba_var\n",
    "_, res_schedule = cp_optimizer.get_program_results(*var_results, False)\n",
    "\n"
   ]
  },
  {
   "cell_type": "code",
   "execution_count": 18,
   "id": "02eea1d6-e06b-486f-8332-e43f1bffc42e",
   "metadata": {},
   "outputs": [],
   "source": [
    "left_queries, _ = zip(*res_schedule[0])\n",
    "right_queries, _ = zip(*res_schedule[1])\n",
    "left_queries = set(left_queries)\n",
    "right_queries = set(right_queries)\n",
    "\n",
    "# 1. split paths : determine which belong only to left\n",
    "left_paths = []\n",
    "right_paths_raw = []\n",
    "for p in path_sets_idx:\n",
    "    intersect = p.intersection(right_queries)\n",
    "    if len(intersect) == 0:\n",
    "        left_paths.append(p)\n",
    "    else :\n",
    "        right_paths_raw.append(p)\n",
    "\n",
    "# 2. select queries appearing only in right paths\n",
    "remain_queries = left_queries.intersection(set.union(*left_paths))\n",
    "left_queries = left_queries.difference(remain_queries)\n",
    "right_queries = right_queries.union(remain_queries)\n",
    "\n",
    "# 3. redefine paths right containing queries in left\n",
    "right_paths = []\n",
    "for p in right_paths_raw:\n",
    "    new_p = right_queries.intersection(p)\n",
    "    right_paths.append(new_p)\n",
    "\n",
    "# 4. redefine left and right q_list\n",
    "q_list_left = [q_list[i] for i in sorted(left_queries)]\n",
    "q_list_right = [q_list[i] for i in sorted(right_queries)]\n",
    "\n",
    "# Note : need to keep left_queries and right_queries to reconstruct identically"
   ]
  },
  {
   "cell_type": "code",
   "execution_count": null,
   "id": "1289b9c5-69c7-47c3-a805-f2fc28e6b060",
   "metadata": {},
   "outputs": [],
   "source": []
  }
 ],
 "metadata": {
  "kernelspec": {
   "display_name": "Python 3 (ipykernel)",
   "language": "python",
   "name": "python3"
  },
  "language_info": {
   "codemirror_mode": {
    "name": "ipython",
    "version": 3
   },
   "file_extension": ".py",
   "mimetype": "text/x-python",
   "name": "python",
   "nbconvert_exporter": "python",
   "pygments_lexer": "ipython3",
   "version": "3.9.7"
  }
 },
 "nbformat": 4,
 "nbformat_minor": 5
}
